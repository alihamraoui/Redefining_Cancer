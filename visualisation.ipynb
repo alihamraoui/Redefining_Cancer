{
  "nbformat": 4,
  "nbformat_minor": 0,
  "metadata": {
    "accelerator": "GPU",
    "colab": {
      "name": "visualisation.ipynb",
      "provenance": [],
      "collapsed_sections": [],
      "include_colab_link": true
    },
    "kernelspec": {
      "display_name": "Python 3",
      "language": "python",
      "name": "python3"
    },
    "language_info": {
      "codemirror_mode": {
        "name": "ipython",
        "version": 3
      },
      "file_extension": ".py",
      "mimetype": "text/x-python",
      "name": "python",
      "nbconvert_exporter": "python",
      "pygments_lexer": "ipython3",
      "version": "3.7.9"
    }
  },
  "cells": [
    {
      "cell_type": "markdown",
      "metadata": {
        "id": "view-in-github",
        "colab_type": "text"
      },
      "source": [
        "<a href=\"https://colab.research.google.com/github/alihamraoui/Redefining_Cancer/blob/master/visualisation.ipynb\" target=\"_parent\"><img src=\"https://colab.research.google.com/assets/colab-badge.svg\" alt=\"Open In Colab\"/></a>"
      ]
    },
    {
      "cell_type": "code",
      "metadata": {
        "id": "OsgNqwclLeex"
      },
      "source": [
        "import matplotlib.pyplot as plt\n",
        "import re\n",
        "import time\n",
        "import warnings\n",
        "from sklearn.feature_extraction.text import CountVectorizer\n",
        "import seaborn as sns\n",
        "from imblearn.over_sampling import SMOTE # Calibration des echantillons (a faire)\n",
        "from scipy.sparse import hstack\n",
        "from collections import Counter, defaultdict\n",
        "from sklearn.calibration import CalibratedClassifierCV # Calibration des echantillons (a faire)\n",
        "from sklearn.model_selection import train_test_split\n",
        "\n",
        "warnings.filterwarnings(\"ignore\")\n",
        "import nltk\n",
        "import math\n",
        "import numpy as np \n",
        "import pandas as pd \n",
        "import pickle"
      ],
      "execution_count": 231,
      "outputs": []
    },
    {
      "cell_type": "code",
      "metadata": {
        "colab": {
          "base_uri": "https://localhost:8080/"
        },
        "id": "MUInIZCV8zkd",
        "outputId": "df6ee3d6-bb7d-45ed-e6fd-35530fcd76e0"
      },
      "source": [
        "!kaggle --version\n",
        "!mkdir -p ~/.kaggle\n",
        "!cp kaggle.json ~/.kaggle/\n",
        "!cd input_data/\n",
        "!kaggle competitions download -c msk-redefining-cancer-treatment"
      ],
      "execution_count": 232,
      "outputs": [
        {
          "output_type": "stream",
          "name": "stdout",
          "text": [
            "Traceback (most recent call last):\n",
            "  File \"/usr/local/bin/kaggle\", line 5, in <module>\n",
            "    from kaggle.cli import main\n",
            "  File \"/usr/local/lib/python2.7/dist-packages/kaggle/__init__.py\", line 23, in <module>\n",
            "    api.authenticate()\n",
            "  File \"/usr/local/lib/python2.7/dist-packages/kaggle/api/kaggle_api_extended.py\", line 146, in authenticate\n",
            "    self.config_file, self.config_dir))\n",
            "IOError: Could not find kaggle.json. Make sure it's located in /root/.kaggle. Or use the environment method.\n",
            "cp: cannot stat 'kaggle.json': No such file or directory\n",
            "/bin/bash: line 0: cd: input_data/: No such file or directory\n",
            "Traceback (most recent call last):\n",
            "  File \"/usr/local/bin/kaggle\", line 5, in <module>\n",
            "    from kaggle.cli import main\n",
            "  File \"/usr/local/lib/python2.7/dist-packages/kaggle/__init__.py\", line 23, in <module>\n",
            "    api.authenticate()\n",
            "  File \"/usr/local/lib/python2.7/dist-packages/kaggle/api/kaggle_api_extended.py\", line 146, in authenticate\n",
            "    self.config_file, self.config_dir))\n",
            "IOError: Could not find kaggle.json. Make sure it's located in /root/.kaggle. Or use the environment method.\n"
          ]
        }
      ]
    },
    {
      "cell_type": "markdown",
      "metadata": {
        "id": "oQ02OdjPklDF"
      },
      "source": [
        "## Load cleaned text (PICKLE object)"
      ]
    },
    {
      "cell_type": "code",
      "metadata": {
        "colab": {
          "base_uri": "https://localhost:8080/"
        },
        "id": "XrCnzVuNjrw6",
        "outputId": "8fe40524-4ad4-48e6-ec8b-4fe16be1e6ce"
      },
      "source": [
        "from google.colab import drive\n",
        "drive.mount('/content/drive')"
      ],
      "execution_count": 233,
      "outputs": [
        {
          "output_type": "stream",
          "name": "stdout",
          "text": [
            "Drive already mounted at /content/drive; to attempt to forcibly remount, call drive.mount(\"/content/drive\", force_remount=True).\n"
          ]
        }
      ]
    },
    {
      "cell_type": "code",
      "metadata": {
        "colab": {
          "base_uri": "https://localhost:8080/"
        },
        "id": "vpUsnuv7jlQB",
        "outputId": "250f0bfc-b6c8-45a4-a3c7-dae90e38afbb"
      },
      "source": [
        "drive.mount('/content/drive')\n",
        "DATA_PATH = \"/content/drive/MyDrive\"\n",
        "infile = open(DATA_PATH+\"/clean_text.pkl\",'rb')\n",
        "df_merge = pickle.load(infile)"
      ],
      "execution_count": 234,
      "outputs": [
        {
          "output_type": "stream",
          "name": "stdout",
          "text": [
            "Drive already mounted at /content/drive; to attempt to forcibly remount, call drive.mount(\"/content/drive\", force_remount=True).\n"
          ]
        }
      ]
    },
    {
      "cell_type": "code",
      "metadata": {
        "colab": {
          "base_uri": "https://localhost:8080/",
          "height": 206
        },
        "id": "PX9Ju8dJLmr7",
        "outputId": "2df03a75-b8d2-42bf-8d32-0475ccd53e69"
      },
      "source": [
        "df_merge.head()"
      ],
      "execution_count": 235,
      "outputs": [
        {
          "output_type": "execute_result",
          "data": {
            "text/html": [
              "<div>\n",
              "<style scoped>\n",
              "    .dataframe tbody tr th:only-of-type {\n",
              "        vertical-align: middle;\n",
              "    }\n",
              "\n",
              "    .dataframe tbody tr th {\n",
              "        vertical-align: top;\n",
              "    }\n",
              "\n",
              "    .dataframe thead th {\n",
              "        text-align: right;\n",
              "    }\n",
              "</style>\n",
              "<table border=\"1\" class=\"dataframe\">\n",
              "  <thead>\n",
              "    <tr style=\"text-align: right;\">\n",
              "      <th></th>\n",
              "      <th>id</th>\n",
              "      <th>gene</th>\n",
              "      <th>variation</th>\n",
              "      <th>class</th>\n",
              "      <th>text</th>\n",
              "    </tr>\n",
              "  </thead>\n",
              "  <tbody>\n",
              "    <tr>\n",
              "      <th>0</th>\n",
              "      <td>0</td>\n",
              "      <td>FAM58A</td>\n",
              "      <td>Truncating Mutations</td>\n",
              "      <td>1</td>\n",
              "      <td>cyclindependent kinase cdks regulate variety f...</td>\n",
              "    </tr>\n",
              "    <tr>\n",
              "      <th>1</th>\n",
              "      <td>1</td>\n",
              "      <td>CBL</td>\n",
              "      <td>W802*</td>\n",
              "      <td>2</td>\n",
              "      <td>abstract background nonsmall cell lung cancer ...</td>\n",
              "    </tr>\n",
              "    <tr>\n",
              "      <th>2</th>\n",
              "      <td>2</td>\n",
              "      <td>CBL</td>\n",
              "      <td>Q249E</td>\n",
              "      <td>2</td>\n",
              "      <td>abstract background nonsmall cell lung cancer ...</td>\n",
              "    </tr>\n",
              "    <tr>\n",
              "      <th>3</th>\n",
              "      <td>3</td>\n",
              "      <td>CBL</td>\n",
              "      <td>N454D</td>\n",
              "      <td>3</td>\n",
              "      <td>recent evidence demonstrated acquired uniparen...</td>\n",
              "    </tr>\n",
              "    <tr>\n",
              "      <th>4</th>\n",
              "      <td>4</td>\n",
              "      <td>CBL</td>\n",
              "      <td>L399V</td>\n",
              "      <td>4</td>\n",
              "      <td>oncogenic mutation monomeric casitas blineage ...</td>\n",
              "    </tr>\n",
              "  </tbody>\n",
              "</table>\n",
              "</div>"
            ],
            "text/plain": [
              "   id    gene  ... class                                               text\n",
              "0   0  FAM58A  ...     1  cyclindependent kinase cdks regulate variety f...\n",
              "1   1     CBL  ...     2  abstract background nonsmall cell lung cancer ...\n",
              "2   2     CBL  ...     2  abstract background nonsmall cell lung cancer ...\n",
              "3   3     CBL  ...     3  recent evidence demonstrated acquired uniparen...\n",
              "4   4     CBL  ...     4  oncogenic mutation monomeric casitas blineage ...\n",
              "\n",
              "[5 rows x 5 columns]"
            ]
          },
          "metadata": {},
          "execution_count": 235
        }
      ]
    },
    {
      "cell_type": "markdown",
      "metadata": {
        "id": "GGcu5sxNhhNX"
      },
      "source": [
        "## Split Dataset : train and test"
      ]
    },
    {
      "cell_type": "code",
      "metadata": {
        "colab": {
          "base_uri": "https://localhost:8080/",
          "height": 514
        },
        "id": "cGmAJ2r4onM5",
        "outputId": "b284dd6d-585c-4583-9eaa-5b491c5787fc"
      },
      "source": [
        "plt.figure(figsize=(12,8))\n",
        "sns.countplot(x=\"class\", data=df_merge)\n",
        "plt.ylabel('Frequency', fontsize=12)\n",
        "plt.xlabel('Class Count', fontsize=12)\n",
        "plt.xticks(rotation='vertical')\n",
        "plt.title(\"Frequency of Classes\", fontsize=15)\n",
        "plt.show()"
      ],
      "execution_count": 236,
      "outputs": [
        {
          "output_type": "display_data",
          "data": {
            "image/png": "[encoded data removed]",
            "text/plain": [
              "<Figure size 864x576 with 1 Axes>"
            ]
          },
          "metadata": {
            "needs_background": "light"
          }
        }
      ]
    },
    {
      "cell_type": "code",
      "metadata": {
        "colab": {
          "base_uri": "https://localhost:8080/",
          "height": 500
        },
        "id": "XFEHCvgqTwrj",
        "outputId": "3308de8b-dd2f-45e0-cbe2-100342f43012"
      },
      "source": [
        "df_merge[\"Text_num_words\"] = df_merge[\"text\"].apply(lambda x: len(str(x).split()) )\n",
        "#df_merge[\"Text_num_chars\"] = df_merge[\"Text\"].apply(lambda x: len(str(x)) )\n",
        "\n",
        "\n",
        "#train_df = pd.merge(train_variants_df, train_text_df, on='id')\n",
        "plt.figure(figsize=(12,8))\n",
        "sns.boxplot(x='class', y='Text_num_words', data=df_merge)\n",
        "plt.xlabel('Class', fontsize=12)\n",
        "plt.ylabel('Text - Number of words', fontsize=12)\n",
        "plt.show()"
      ],
      "execution_count": 237,
      "outputs": [
        {
          "output_type": "display_data",
          "data": {
            "image/png": "[encoded data removed]",
            "text/plain": [
              "<Figure size 864x576 with 1 Axes>"
            ]
          },
          "metadata": {
            "needs_background": "light"
          }
        }
      ]
    },
    {
      "cell_type": "markdown",
      "metadata": {
        "id": "1uodVRLEhhNX"
      },
      "source": [
        "## TF-IDF :  term frequency–inverse document frequency\n",
        "to reflect how important a word is to a document \n",
        "\n",
        "- transform words to numeric :  each word in text vocabulary is represented by a numeric number. text -> vector of numerics\n",
        "- text Vectorisation : convert text to matrix by counting the occurrence of each word in a text."
      ]
    },
    {
      "cell_type": "code",
      "metadata": {
        "id": "RjilTFXmf2F0"
      },
      "source": [
        "from time import time\n",
        "import matplotlib.pyplot as plt\n",
        "from sklearn.decomposition import NMF, LatentDirichletAllocation\n",
        "from sklearn.datasets import fetch_20newsgroups"
      ],
      "execution_count": 238,
      "outputs": []
    },
    {
      "cell_type": "code",
      "metadata": {
        "id": "N5eMRS7WlpqK"
      },
      "source": [
        "from sklearn.feature_extraction.text import TfidfVectorizer, CountVectorizer\n",
        "# vectorizer instantiation\n",
        "vocabulary_length = 6000\n",
        "tfidfvectorizer = TfidfVectorizer(analyzer='word',stop_words= 'english', max_features=vocabulary_length, use_idf=True)\n",
        "\n",
        "# convertir text to matrix\n",
        "tfidf_wm = tfidfvectorizer.fit_transform(df_merge.text).astype('float64')"
      ],
      "execution_count": 239,
      "outputs": []
    },
    {
      "cell_type": "code",
      "metadata": {
        "colab": {
          "base_uri": "https://localhost:8080/",
          "height": 475
        },
        "id": "fkQMJsh1vovc",
        "outputId": "317b0ce8-9f37-4cb5-8a0f-5bb9ce5e9c0c"
      },
      "source": [
        "df_countvect = pd.DataFrame(data = tfidf_wm.toarray(),index = df_merge.id, columns = tfidfvectorizer.get_feature_names())\n",
        "#pd.merge(df_countvect,df_merge, on=\"ID\",how=\"left\")\n",
        "df_countvect"
      ],
      "execution_count": 240,
      "outputs": [
        {
          "output_type": "execute_result",
          "data": {
            "text/html": [
              "<div>\n",
              "<style scoped>\n",
              "    .dataframe tbody tr th:only-of-type {\n",
              "        vertical-align: middle;\n",
              "    }\n",
              "\n",
              "    .dataframe tbody tr th {\n",
              "        vertical-align: top;\n",
              "    }\n",
              "\n",
              "    .dataframe thead th {\n",
              "        text-align: right;\n",
              "    }\n",
              "</style>\n",
              "<table border=\"1\" class=\"dataframe\">\n",
              "  <thead>\n",
              "    <tr style=\"text-align: right;\">\n",
              "      <th></th>\n",
              "      <th>a_yinsfqea</th>\n",
              "      <th>aa</th>\n",
              "      <th>aac</th>\n",
              "      <th>aacr</th>\n",
              "      <th>aag</th>\n",
              "      <th>ab</th>\n",
              "      <th>abbreviation</th>\n",
              "      <th>abc</th>\n",
              "      <th>abcam</th>\n",
              "      <th>abd</th>\n",
              "      <th>abdominal</th>\n",
              "      <th>aberrant</th>\n",
              "      <th>aberrantly</th>\n",
              "      <th>aberration</th>\n",
              "      <th>abi</th>\n",
              "      <th>ability</th>\n",
              "      <th>abl</th>\n",
              "      <th>ablation</th>\n",
              "      <th>able</th>\n",
              "      <th>abnormal</th>\n",
              "      <th>abnormality</th>\n",
              "      <th>abolish</th>\n",
              "      <th>abolished</th>\n",
              "      <th>abolishes</th>\n",
              "      <th>abrogate</th>\n",
              "      <th>abrogated</th>\n",
              "      <th>abrogates</th>\n",
              "      <th>abrogation</th>\n",
              "      <th>absence</th>\n",
              "      <th>absent</th>\n",
              "      <th>absolute</th>\n",
              "      <th>absorbance</th>\n",
              "      <th>abstract</th>\n",
              "      <th>abundance</th>\n",
              "      <th>abundant</th>\n",
              "      <th>ac</th>\n",
              "      <th>acc</th>\n",
              "      <th>accelerate</th>\n",
              "      <th>accelerated</th>\n",
              "      <th>accepted</th>\n",
              "      <th>...</th>\n",
              "      <th>younger</th>\n",
              "      <th>yr</th>\n",
              "      <th>yu</th>\n",
              "      <th>yx</th>\n",
              "      <th>yy</th>\n",
              "      <th>zbp</th>\n",
              "      <th>zd</th>\n",
              "      <th>zebrafish</th>\n",
              "      <th>zeiss</th>\n",
              "      <th>zero</th>\n",
              "      <th>zhang</th>\n",
              "      <th>zinc</th>\n",
              "      <th>zn</th>\n",
              "      <th>znf</th>\n",
              "      <th>znþ</th>\n",
              "      <th>znþbinding</th>\n",
              "      <th>zone</th>\n",
              "      <th>µg</th>\n",
              "      <th>µgml</th>\n",
              "      <th>µl</th>\n",
              "      <th>µm</th>\n",
              "      <th>αc</th>\n",
              "      <th>αchelix</th>\n",
              "      <th>αhelices</th>\n",
              "      <th>αhelix</th>\n",
              "      <th>αketoglutarate</th>\n",
              "      <th>αtubulin</th>\n",
              "      <th>βactin</th>\n",
              "      <th>βcatenin</th>\n",
              "      <th>βgalactosidase</th>\n",
              "      <th>βsheet</th>\n",
              "      <th>βtrcp</th>\n",
              "      <th>γphosphate</th>\n",
              "      <th>γsecretase</th>\n",
              "      <th>δbraf</th>\n",
              "      <th>μg</th>\n",
              "      <th>μgml</th>\n",
              "      <th>μl</th>\n",
              "      <th>μm</th>\n",
              "      <th>μmoll</th>\n",
              "    </tr>\n",
              "    <tr>\n",
              "      <th>id</th>\n",
              "      <th></th>\n",
              "      <th></th>\n",
              "      <th></th>\n",
              "      <th></th>\n",
              "      <th></th>\n",
              "      <th></th>\n",
              "      <th></th>\n",
              "      <th></th>\n",
              "      <th></th>\n",
              "      <th></th>\n",
              "      <th></th>\n",
              "      <th></th>\n",
              "      <th></th>\n",
              "      <th></th>\n",
              "      <th></th>\n",
              "      <th></th>\n",
              "      <th></th>\n",
              "      <th></th>\n",
              "      <th></th>\n",
              "      <th></th>\n",
              "      <th></th>\n",
              "      <th></th>\n",
              "      <th></th>\n",
              "      <th></th>\n",
              "      <th></th>\n",
              "      <th></th>\n",
              "      <th></th>\n",
              "      <th></th>\n",
              "      <th></th>\n",
              "      <th></th>\n",
              "      <th></th>\n",
              "      <th></th>\n",
              "      <th></th>\n",
              "      <th></th>\n",
              "      <th></th>\n",
              "      <th></th>\n",
              "      <th></th>\n",
              "      <th></th>\n",
              "      <th></th>\n",
              "      <th></th>\n",
              "      <th></th>\n",
              "      <th></th>\n",
              "      <th></th>\n",
              "      <th></th>\n",
              "      <th></th>\n",
              "      <th></th>\n",
              "      <th></th>\n",
              "      <th></th>\n",
              "      <th></th>\n",
              "      <th></th>\n",
              "      <th></th>\n",
              "      <th></th>\n",
              "      <th></th>\n",
              "      <th></th>\n",
              "      <th></th>\n",
              "      <th></th>\n",
              "      <th></th>\n",
              "      <th></th>\n",
              "      <th></th>\n",
              "      <th></th>\n",
              "      <th></th>\n",
              "      <th></th>\n",
              "      <th></th>\n",
              "      <th></th>\n",
              "      <th></th>\n",
              "      <th></th>\n",
              "      <th></th>\n",
              "      <th></th>\n",
              "      <th></th>\n",
              "      <th></th>\n",
              "      <th></th>\n",
              "      <th></th>\n",
              "      <th></th>\n",
              "      <th></th>\n",
              "      <th></th>\n",
              "      <th></th>\n",
              "      <th></th>\n",
              "      <th></th>\n",
              "      <th></th>\n",
              "      <th></th>\n",
              "      <th></th>\n",
              "    </tr>\n",
              "  </thead>\n",
              "  <tbody>\n",
              "    <tr>\n",
              "      <th>0</th>\n",
              "      <td>0.0</td>\n",
              "      <td>0.000000</td>\n",
              "      <td>0.0</td>\n",
              "      <td>0.0</td>\n",
              "      <td>0.0</td>\n",
              "      <td>0.004451</td>\n",
              "      <td>0.000000</td>\n",
              "      <td>0.0</td>\n",
              "      <td>0.006537</td>\n",
              "      <td>0.0</td>\n",
              "      <td>0.0</td>\n",
              "      <td>0.007655</td>\n",
              "      <td>0.000000</td>\n",
              "      <td>0.0</td>\n",
              "      <td>0.000000</td>\n",
              "      <td>0.002580</td>\n",
              "      <td>0.0</td>\n",
              "      <td>0.0</td>\n",
              "      <td>0.000000</td>\n",
              "      <td>0.000000</td>\n",
              "      <td>0.008257</td>\n",
              "      <td>0.000000</td>\n",
              "      <td>0.000000</td>\n",
              "      <td>0.006697</td>\n",
              "      <td>0.0</td>\n",
              "      <td>0.000000</td>\n",
              "      <td>0.0</td>\n",
              "      <td>0.000000</td>\n",
              "      <td>0.007647</td>\n",
              "      <td>0.000000</td>\n",
              "      <td>0.0</td>\n",
              "      <td>0.0</td>\n",
              "      <td>0.000000</td>\n",
              "      <td>0.00000</td>\n",
              "      <td>0.0</td>\n",
              "      <td>0.004603</td>\n",
              "      <td>0.0</td>\n",
              "      <td>0.0</td>\n",
              "      <td>0.0</td>\n",
              "      <td>0.000000</td>\n",
              "      <td>...</td>\n",
              "      <td>0.0</td>\n",
              "      <td>0.0</td>\n",
              "      <td>0.0</td>\n",
              "      <td>0.000000</td>\n",
              "      <td>0.0</td>\n",
              "      <td>0.0</td>\n",
              "      <td>0.0</td>\n",
              "      <td>0.008611</td>\n",
              "      <td>0.0</td>\n",
              "      <td>0.000000</td>\n",
              "      <td>0.000000</td>\n",
              "      <td>0.000000</td>\n",
              "      <td>0.0</td>\n",
              "      <td>0.000000</td>\n",
              "      <td>0.0</td>\n",
              "      <td>0.0</td>\n",
              "      <td>0.0</td>\n",
              "      <td>0.000000</td>\n",
              "      <td>0.000000</td>\n",
              "      <td>0.000000</td>\n",
              "      <td>0.000000</td>\n",
              "      <td>0.0</td>\n",
              "      <td>0.0</td>\n",
              "      <td>0.0</td>\n",
              "      <td>0.000000</td>\n",
              "      <td>0.0</td>\n",
              "      <td>0.0</td>\n",
              "      <td>0.000000</td>\n",
              "      <td>0.0</td>\n",
              "      <td>0.0</td>\n",
              "      <td>0.0</td>\n",
              "      <td>0.010492</td>\n",
              "      <td>0.0</td>\n",
              "      <td>0.0</td>\n",
              "      <td>0.0</td>\n",
              "      <td>0.015371</td>\n",
              "      <td>0.000000</td>\n",
              "      <td>0.021731</td>\n",
              "      <td>0.022189</td>\n",
              "      <td>0.0</td>\n",
              "    </tr>\n",
              "    <tr>\n",
              "      <th>1</th>\n",
              "      <td>0.0</td>\n",
              "      <td>0.000000</td>\n",
              "      <td>0.0</td>\n",
              "      <td>0.0</td>\n",
              "      <td>0.0</td>\n",
              "      <td>0.000000</td>\n",
              "      <td>0.000000</td>\n",
              "      <td>0.0</td>\n",
              "      <td>0.000000</td>\n",
              "      <td>0.0</td>\n",
              "      <td>0.0</td>\n",
              "      <td>0.000000</td>\n",
              "      <td>0.000000</td>\n",
              "      <td>0.0</td>\n",
              "      <td>0.006627</td>\n",
              "      <td>0.000000</td>\n",
              "      <td>0.0</td>\n",
              "      <td>0.0</td>\n",
              "      <td>0.000000</td>\n",
              "      <td>0.000000</td>\n",
              "      <td>0.000000</td>\n",
              "      <td>0.000000</td>\n",
              "      <td>0.000000</td>\n",
              "      <td>0.000000</td>\n",
              "      <td>0.0</td>\n",
              "      <td>0.000000</td>\n",
              "      <td>0.0</td>\n",
              "      <td>0.004337</td>\n",
              "      <td>0.000000</td>\n",
              "      <td>0.000000</td>\n",
              "      <td>0.0</td>\n",
              "      <td>0.0</td>\n",
              "      <td>0.003163</td>\n",
              "      <td>0.00000</td>\n",
              "      <td>0.0</td>\n",
              "      <td>0.000000</td>\n",
              "      <td>0.0</td>\n",
              "      <td>0.0</td>\n",
              "      <td>0.0</td>\n",
              "      <td>0.000000</td>\n",
              "      <td>...</td>\n",
              "      <td>0.0</td>\n",
              "      <td>0.0</td>\n",
              "      <td>0.0</td>\n",
              "      <td>0.000000</td>\n",
              "      <td>0.0</td>\n",
              "      <td>0.0</td>\n",
              "      <td>0.0</td>\n",
              "      <td>0.000000</td>\n",
              "      <td>0.0</td>\n",
              "      <td>0.000000</td>\n",
              "      <td>0.000000</td>\n",
              "      <td>0.000000</td>\n",
              "      <td>0.0</td>\n",
              "      <td>0.000000</td>\n",
              "      <td>0.0</td>\n",
              "      <td>0.0</td>\n",
              "      <td>0.0</td>\n",
              "      <td>0.018507</td>\n",
              "      <td>0.032887</td>\n",
              "      <td>0.009308</td>\n",
              "      <td>0.012986</td>\n",
              "      <td>0.0</td>\n",
              "      <td>0.0</td>\n",
              "      <td>0.0</td>\n",
              "      <td>0.000000</td>\n",
              "      <td>0.0</td>\n",
              "      <td>0.0</td>\n",
              "      <td>0.004003</td>\n",
              "      <td>0.0</td>\n",
              "      <td>0.0</td>\n",
              "      <td>0.0</td>\n",
              "      <td>0.000000</td>\n",
              "      <td>0.0</td>\n",
              "      <td>0.0</td>\n",
              "      <td>0.0</td>\n",
              "      <td>0.000000</td>\n",
              "      <td>0.000000</td>\n",
              "      <td>0.000000</td>\n",
              "      <td>0.000000</td>\n",
              "      <td>0.0</td>\n",
              "    </tr>\n",
              "    <tr>\n",
              "      <th>2</th>\n",
              "      <td>0.0</td>\n",
              "      <td>0.000000</td>\n",
              "      <td>0.0</td>\n",
              "      <td>0.0</td>\n",
              "      <td>0.0</td>\n",
              "      <td>0.000000</td>\n",
              "      <td>0.000000</td>\n",
              "      <td>0.0</td>\n",
              "      <td>0.000000</td>\n",
              "      <td>0.0</td>\n",
              "      <td>0.0</td>\n",
              "      <td>0.000000</td>\n",
              "      <td>0.000000</td>\n",
              "      <td>0.0</td>\n",
              "      <td>0.006627</td>\n",
              "      <td>0.000000</td>\n",
              "      <td>0.0</td>\n",
              "      <td>0.0</td>\n",
              "      <td>0.000000</td>\n",
              "      <td>0.000000</td>\n",
              "      <td>0.000000</td>\n",
              "      <td>0.000000</td>\n",
              "      <td>0.000000</td>\n",
              "      <td>0.000000</td>\n",
              "      <td>0.0</td>\n",
              "      <td>0.000000</td>\n",
              "      <td>0.0</td>\n",
              "      <td>0.004337</td>\n",
              "      <td>0.000000</td>\n",
              "      <td>0.000000</td>\n",
              "      <td>0.0</td>\n",
              "      <td>0.0</td>\n",
              "      <td>0.003163</td>\n",
              "      <td>0.00000</td>\n",
              "      <td>0.0</td>\n",
              "      <td>0.000000</td>\n",
              "      <td>0.0</td>\n",
              "      <td>0.0</td>\n",
              "      <td>0.0</td>\n",
              "      <td>0.000000</td>\n",
              "      <td>...</td>\n",
              "      <td>0.0</td>\n",
              "      <td>0.0</td>\n",
              "      <td>0.0</td>\n",
              "      <td>0.000000</td>\n",
              "      <td>0.0</td>\n",
              "      <td>0.0</td>\n",
              "      <td>0.0</td>\n",
              "      <td>0.000000</td>\n",
              "      <td>0.0</td>\n",
              "      <td>0.000000</td>\n",
              "      <td>0.000000</td>\n",
              "      <td>0.000000</td>\n",
              "      <td>0.0</td>\n",
              "      <td>0.000000</td>\n",
              "      <td>0.0</td>\n",
              "      <td>0.0</td>\n",
              "      <td>0.0</td>\n",
              "      <td>0.018507</td>\n",
              "      <td>0.032887</td>\n",
              "      <td>0.009308</td>\n",
              "      <td>0.012986</td>\n",
              "      <td>0.0</td>\n",
              "      <td>0.0</td>\n",
              "      <td>0.0</td>\n",
              "      <td>0.000000</td>\n",
              "      <td>0.0</td>\n",
              "      <td>0.0</td>\n",
              "      <td>0.004003</td>\n",
              "      <td>0.0</td>\n",
              "      <td>0.0</td>\n",
              "      <td>0.0</td>\n",
              "      <td>0.000000</td>\n",
              "      <td>0.0</td>\n",
              "      <td>0.0</td>\n",
              "      <td>0.0</td>\n",
              "      <td>0.000000</td>\n",
              "      <td>0.000000</td>\n",
              "      <td>0.000000</td>\n",
              "      <td>0.000000</td>\n",
              "      <td>0.0</td>\n",
              "    </tr>\n",
              "    <tr>\n",
              "      <th>3</th>\n",
              "      <td>0.0</td>\n",
              "      <td>0.000000</td>\n",
              "      <td>0.0</td>\n",
              "      <td>0.0</td>\n",
              "      <td>0.0</td>\n",
              "      <td>0.000000</td>\n",
              "      <td>0.005577</td>\n",
              "      <td>0.0</td>\n",
              "      <td>0.006245</td>\n",
              "      <td>0.0</td>\n",
              "      <td>0.0</td>\n",
              "      <td>0.007313</td>\n",
              "      <td>0.000000</td>\n",
              "      <td>0.0</td>\n",
              "      <td>0.004854</td>\n",
              "      <td>0.002465</td>\n",
              "      <td>0.0</td>\n",
              "      <td>0.0</td>\n",
              "      <td>0.005715</td>\n",
              "      <td>0.000000</td>\n",
              "      <td>0.047332</td>\n",
              "      <td>0.000000</td>\n",
              "      <td>0.004832</td>\n",
              "      <td>0.000000</td>\n",
              "      <td>0.0</td>\n",
              "      <td>0.004868</td>\n",
              "      <td>0.0</td>\n",
              "      <td>0.019062</td>\n",
              "      <td>0.009741</td>\n",
              "      <td>0.016969</td>\n",
              "      <td>0.0</td>\n",
              "      <td>0.0</td>\n",
              "      <td>0.000000</td>\n",
              "      <td>0.00000</td>\n",
              "      <td>0.0</td>\n",
              "      <td>0.000000</td>\n",
              "      <td>0.0</td>\n",
              "      <td>0.0</td>\n",
              "      <td>0.0</td>\n",
              "      <td>0.000000</td>\n",
              "      <td>...</td>\n",
              "      <td>0.0</td>\n",
              "      <td>0.0</td>\n",
              "      <td>0.0</td>\n",
              "      <td>0.000000</td>\n",
              "      <td>0.0</td>\n",
              "      <td>0.0</td>\n",
              "      <td>0.0</td>\n",
              "      <td>0.000000</td>\n",
              "      <td>0.0</td>\n",
              "      <td>0.006263</td>\n",
              "      <td>0.000000</td>\n",
              "      <td>0.000000</td>\n",
              "      <td>0.0</td>\n",
              "      <td>0.000000</td>\n",
              "      <td>0.0</td>\n",
              "      <td>0.0</td>\n",
              "      <td>0.0</td>\n",
              "      <td>0.000000</td>\n",
              "      <td>0.000000</td>\n",
              "      <td>0.000000</td>\n",
              "      <td>0.000000</td>\n",
              "      <td>0.0</td>\n",
              "      <td>0.0</td>\n",
              "      <td>0.0</td>\n",
              "      <td>0.005998</td>\n",
              "      <td>0.0</td>\n",
              "      <td>0.0</td>\n",
              "      <td>0.000000</td>\n",
              "      <td>0.0</td>\n",
              "      <td>0.0</td>\n",
              "      <td>0.0</td>\n",
              "      <td>0.000000</td>\n",
              "      <td>0.0</td>\n",
              "      <td>0.0</td>\n",
              "      <td>0.0</td>\n",
              "      <td>0.007342</td>\n",
              "      <td>0.000000</td>\n",
              "      <td>0.004152</td>\n",
              "      <td>0.000000</td>\n",
              "      <td>0.0</td>\n",
              "    </tr>\n",
              "    <tr>\n",
              "      <th>4</th>\n",
              "      <td>0.0</td>\n",
              "      <td>0.000000</td>\n",
              "      <td>0.0</td>\n",
              "      <td>0.0</td>\n",
              "      <td>0.0</td>\n",
              "      <td>0.003795</td>\n",
              "      <td>0.000000</td>\n",
              "      <td>0.0</td>\n",
              "      <td>0.000000</td>\n",
              "      <td>0.0</td>\n",
              "      <td>0.0</td>\n",
              "      <td>0.000000</td>\n",
              "      <td>0.005755</td>\n",
              "      <td>0.0</td>\n",
              "      <td>0.000000</td>\n",
              "      <td>0.004400</td>\n",
              "      <td>0.0</td>\n",
              "      <td>0.0</td>\n",
              "      <td>0.000000</td>\n",
              "      <td>0.000000</td>\n",
              "      <td>0.000000</td>\n",
              "      <td>0.000000</td>\n",
              "      <td>0.012936</td>\n",
              "      <td>0.000000</td>\n",
              "      <td>0.0</td>\n",
              "      <td>0.000000</td>\n",
              "      <td>0.0</td>\n",
              "      <td>0.000000</td>\n",
              "      <td>0.000000</td>\n",
              "      <td>0.000000</td>\n",
              "      <td>0.0</td>\n",
              "      <td>0.0</td>\n",
              "      <td>0.000000</td>\n",
              "      <td>0.00000</td>\n",
              "      <td>0.0</td>\n",
              "      <td>0.003924</td>\n",
              "      <td>0.0</td>\n",
              "      <td>0.0</td>\n",
              "      <td>0.0</td>\n",
              "      <td>0.000000</td>\n",
              "      <td>...</td>\n",
              "      <td>0.0</td>\n",
              "      <td>0.0</td>\n",
              "      <td>0.0</td>\n",
              "      <td>0.000000</td>\n",
              "      <td>0.0</td>\n",
              "      <td>0.0</td>\n",
              "      <td>0.0</td>\n",
              "      <td>0.000000</td>\n",
              "      <td>0.0</td>\n",
              "      <td>0.000000</td>\n",
              "      <td>0.000000</td>\n",
              "      <td>0.000000</td>\n",
              "      <td>0.0</td>\n",
              "      <td>0.000000</td>\n",
              "      <td>0.0</td>\n",
              "      <td>0.0</td>\n",
              "      <td>0.0</td>\n",
              "      <td>0.000000</td>\n",
              "      <td>0.000000</td>\n",
              "      <td>0.000000</td>\n",
              "      <td>0.000000</td>\n",
              "      <td>0.0</td>\n",
              "      <td>0.0</td>\n",
              "      <td>0.0</td>\n",
              "      <td>0.005352</td>\n",
              "      <td>0.0</td>\n",
              "      <td>0.0</td>\n",
              "      <td>0.000000</td>\n",
              "      <td>0.0</td>\n",
              "      <td>0.0</td>\n",
              "      <td>0.0</td>\n",
              "      <td>0.000000</td>\n",
              "      <td>0.0</td>\n",
              "      <td>0.0</td>\n",
              "      <td>0.0</td>\n",
              "      <td>0.006552</td>\n",
              "      <td>0.003582</td>\n",
              "      <td>0.000000</td>\n",
              "      <td>0.003153</td>\n",
              "      <td>0.0</td>\n",
              "    </tr>\n",
              "    <tr>\n",
              "      <th>...</th>\n",
              "      <td>...</td>\n",
              "      <td>...</td>\n",
              "      <td>...</td>\n",
              "      <td>...</td>\n",
              "      <td>...</td>\n",
              "      <td>...</td>\n",
              "      <td>...</td>\n",
              "      <td>...</td>\n",
              "      <td>...</td>\n",
              "      <td>...</td>\n",
              "      <td>...</td>\n",
              "      <td>...</td>\n",
              "      <td>...</td>\n",
              "      <td>...</td>\n",
              "      <td>...</td>\n",
              "      <td>...</td>\n",
              "      <td>...</td>\n",
              "      <td>...</td>\n",
              "      <td>...</td>\n",
              "      <td>...</td>\n",
              "      <td>...</td>\n",
              "      <td>...</td>\n",
              "      <td>...</td>\n",
              "      <td>...</td>\n",
              "      <td>...</td>\n",
              "      <td>...</td>\n",
              "      <td>...</td>\n",
              "      <td>...</td>\n",
              "      <td>...</td>\n",
              "      <td>...</td>\n",
              "      <td>...</td>\n",
              "      <td>...</td>\n",
              "      <td>...</td>\n",
              "      <td>...</td>\n",
              "      <td>...</td>\n",
              "      <td>...</td>\n",
              "      <td>...</td>\n",
              "      <td>...</td>\n",
              "      <td>...</td>\n",
              "      <td>...</td>\n",
              "      <td>...</td>\n",
              "      <td>...</td>\n",
              "      <td>...</td>\n",
              "      <td>...</td>\n",
              "      <td>...</td>\n",
              "      <td>...</td>\n",
              "      <td>...</td>\n",
              "      <td>...</td>\n",
              "      <td>...</td>\n",
              "      <td>...</td>\n",
              "      <td>...</td>\n",
              "      <td>...</td>\n",
              "      <td>...</td>\n",
              "      <td>...</td>\n",
              "      <td>...</td>\n",
              "      <td>...</td>\n",
              "      <td>...</td>\n",
              "      <td>...</td>\n",
              "      <td>...</td>\n",
              "      <td>...</td>\n",
              "      <td>...</td>\n",
              "      <td>...</td>\n",
              "      <td>...</td>\n",
              "      <td>...</td>\n",
              "      <td>...</td>\n",
              "      <td>...</td>\n",
              "      <td>...</td>\n",
              "      <td>...</td>\n",
              "      <td>...</td>\n",
              "      <td>...</td>\n",
              "      <td>...</td>\n",
              "      <td>...</td>\n",
              "      <td>...</td>\n",
              "      <td>...</td>\n",
              "      <td>...</td>\n",
              "      <td>...</td>\n",
              "      <td>...</td>\n",
              "      <td>...</td>\n",
              "      <td>...</td>\n",
              "      <td>...</td>\n",
              "      <td>...</td>\n",
              "    </tr>\n",
              "    <tr>\n",
              "      <th>3316</th>\n",
              "      <td>0.0</td>\n",
              "      <td>0.002329</td>\n",
              "      <td>0.0</td>\n",
              "      <td>0.0</td>\n",
              "      <td>0.0</td>\n",
              "      <td>0.004270</td>\n",
              "      <td>0.000000</td>\n",
              "      <td>0.0</td>\n",
              "      <td>0.000000</td>\n",
              "      <td>0.0</td>\n",
              "      <td>0.0</td>\n",
              "      <td>0.000000</td>\n",
              "      <td>0.000000</td>\n",
              "      <td>0.0</td>\n",
              "      <td>0.002437</td>\n",
              "      <td>0.013614</td>\n",
              "      <td>0.0</td>\n",
              "      <td>0.0</td>\n",
              "      <td>0.004304</td>\n",
              "      <td>0.006414</td>\n",
              "      <td>0.007921</td>\n",
              "      <td>0.000000</td>\n",
              "      <td>0.000000</td>\n",
              "      <td>0.000000</td>\n",
              "      <td>0.0</td>\n",
              "      <td>0.002444</td>\n",
              "      <td>0.0</td>\n",
              "      <td>0.000000</td>\n",
              "      <td>0.001223</td>\n",
              "      <td>0.000000</td>\n",
              "      <td>0.0</td>\n",
              "      <td>0.0</td>\n",
              "      <td>0.000000</td>\n",
              "      <td>0.00000</td>\n",
              "      <td>0.0</td>\n",
              "      <td>0.000000</td>\n",
              "      <td>0.0</td>\n",
              "      <td>0.0</td>\n",
              "      <td>0.0</td>\n",
              "      <td>0.002437</td>\n",
              "      <td>...</td>\n",
              "      <td>0.0</td>\n",
              "      <td>0.0</td>\n",
              "      <td>0.0</td>\n",
              "      <td>0.000000</td>\n",
              "      <td>0.0</td>\n",
              "      <td>0.0</td>\n",
              "      <td>0.0</td>\n",
              "      <td>0.000000</td>\n",
              "      <td>0.0</td>\n",
              "      <td>0.000000</td>\n",
              "      <td>0.002781</td>\n",
              "      <td>0.000000</td>\n",
              "      <td>0.0</td>\n",
              "      <td>0.000000</td>\n",
              "      <td>0.0</td>\n",
              "      <td>0.0</td>\n",
              "      <td>0.0</td>\n",
              "      <td>0.000000</td>\n",
              "      <td>0.000000</td>\n",
              "      <td>0.000000</td>\n",
              "      <td>0.000000</td>\n",
              "      <td>0.0</td>\n",
              "      <td>0.0</td>\n",
              "      <td>0.0</td>\n",
              "      <td>0.000000</td>\n",
              "      <td>0.0</td>\n",
              "      <td>0.0</td>\n",
              "      <td>0.000000</td>\n",
              "      <td>0.0</td>\n",
              "      <td>0.0</td>\n",
              "      <td>0.0</td>\n",
              "      <td>0.000000</td>\n",
              "      <td>0.0</td>\n",
              "      <td>0.0</td>\n",
              "      <td>0.0</td>\n",
              "      <td>0.029488</td>\n",
              "      <td>0.002015</td>\n",
              "      <td>0.006254</td>\n",
              "      <td>0.001774</td>\n",
              "      <td>0.0</td>\n",
              "    </tr>\n",
              "    <tr>\n",
              "      <th>3317</th>\n",
              "      <td>0.0</td>\n",
              "      <td>0.000000</td>\n",
              "      <td>0.0</td>\n",
              "      <td>0.0</td>\n",
              "      <td>0.0</td>\n",
              "      <td>0.002852</td>\n",
              "      <td>0.000000</td>\n",
              "      <td>0.0</td>\n",
              "      <td>0.000000</td>\n",
              "      <td>0.0</td>\n",
              "      <td>0.0</td>\n",
              "      <td>0.000000</td>\n",
              "      <td>0.000000</td>\n",
              "      <td>0.0</td>\n",
              "      <td>0.000000</td>\n",
              "      <td>0.004961</td>\n",
              "      <td>0.0</td>\n",
              "      <td>0.0</td>\n",
              "      <td>0.003834</td>\n",
              "      <td>0.000000</td>\n",
              "      <td>0.007937</td>\n",
              "      <td>0.000000</td>\n",
              "      <td>0.000000</td>\n",
              "      <td>0.000000</td>\n",
              "      <td>0.0</td>\n",
              "      <td>0.003266</td>\n",
              "      <td>0.0</td>\n",
              "      <td>0.000000</td>\n",
              "      <td>0.001634</td>\n",
              "      <td>0.000000</td>\n",
              "      <td>0.0</td>\n",
              "      <td>0.0</td>\n",
              "      <td>0.000000</td>\n",
              "      <td>0.00000</td>\n",
              "      <td>0.0</td>\n",
              "      <td>0.000000</td>\n",
              "      <td>0.0</td>\n",
              "      <td>0.0</td>\n",
              "      <td>0.0</td>\n",
              "      <td>0.000000</td>\n",
              "      <td>...</td>\n",
              "      <td>0.0</td>\n",
              "      <td>0.0</td>\n",
              "      <td>0.0</td>\n",
              "      <td>0.000000</td>\n",
              "      <td>0.0</td>\n",
              "      <td>0.0</td>\n",
              "      <td>0.0</td>\n",
              "      <td>0.000000</td>\n",
              "      <td>0.0</td>\n",
              "      <td>0.000000</td>\n",
              "      <td>0.000000</td>\n",
              "      <td>0.000000</td>\n",
              "      <td>0.0</td>\n",
              "      <td>0.000000</td>\n",
              "      <td>0.0</td>\n",
              "      <td>0.0</td>\n",
              "      <td>0.0</td>\n",
              "      <td>0.000000</td>\n",
              "      <td>0.000000</td>\n",
              "      <td>0.000000</td>\n",
              "      <td>0.000000</td>\n",
              "      <td>0.0</td>\n",
              "      <td>0.0</td>\n",
              "      <td>0.0</td>\n",
              "      <td>0.000000</td>\n",
              "      <td>0.0</td>\n",
              "      <td>0.0</td>\n",
              "      <td>0.000000</td>\n",
              "      <td>0.0</td>\n",
              "      <td>0.0</td>\n",
              "      <td>0.0</td>\n",
              "      <td>0.000000</td>\n",
              "      <td>0.0</td>\n",
              "      <td>0.0</td>\n",
              "      <td>0.0</td>\n",
              "      <td>0.004925</td>\n",
              "      <td>0.000000</td>\n",
              "      <td>0.002785</td>\n",
              "      <td>0.000000</td>\n",
              "      <td>0.0</td>\n",
              "    </tr>\n",
              "    <tr>\n",
              "      <th>3318</th>\n",
              "      <td>0.0</td>\n",
              "      <td>0.000000</td>\n",
              "      <td>0.0</td>\n",
              "      <td>0.0</td>\n",
              "      <td>0.0</td>\n",
              "      <td>0.000000</td>\n",
              "      <td>0.000000</td>\n",
              "      <td>0.0</td>\n",
              "      <td>0.000000</td>\n",
              "      <td>0.0</td>\n",
              "      <td>0.0</td>\n",
              "      <td>0.000000</td>\n",
              "      <td>0.000000</td>\n",
              "      <td>0.0</td>\n",
              "      <td>0.000000</td>\n",
              "      <td>0.001403</td>\n",
              "      <td>0.0</td>\n",
              "      <td>0.0</td>\n",
              "      <td>0.000000</td>\n",
              "      <td>0.000000</td>\n",
              "      <td>0.008981</td>\n",
              "      <td>0.000000</td>\n",
              "      <td>0.000000</td>\n",
              "      <td>0.000000</td>\n",
              "      <td>0.0</td>\n",
              "      <td>0.000000</td>\n",
              "      <td>0.0</td>\n",
              "      <td>0.000000</td>\n",
              "      <td>0.000000</td>\n",
              "      <td>0.000000</td>\n",
              "      <td>0.0</td>\n",
              "      <td>0.0</td>\n",
              "      <td>0.000000</td>\n",
              "      <td>0.00000</td>\n",
              "      <td>0.0</td>\n",
              "      <td>0.000000</td>\n",
              "      <td>0.0</td>\n",
              "      <td>0.0</td>\n",
              "      <td>0.0</td>\n",
              "      <td>0.000000</td>\n",
              "      <td>...</td>\n",
              "      <td>0.0</td>\n",
              "      <td>0.0</td>\n",
              "      <td>0.0</td>\n",
              "      <td>0.000000</td>\n",
              "      <td>0.0</td>\n",
              "      <td>0.0</td>\n",
              "      <td>0.0</td>\n",
              "      <td>0.000000</td>\n",
              "      <td>0.0</td>\n",
              "      <td>0.000000</td>\n",
              "      <td>0.000000</td>\n",
              "      <td>0.025543</td>\n",
              "      <td>0.0</td>\n",
              "      <td>0.005419</td>\n",
              "      <td>0.0</td>\n",
              "      <td>0.0</td>\n",
              "      <td>0.0</td>\n",
              "      <td>0.000000</td>\n",
              "      <td>0.000000</td>\n",
              "      <td>0.000000</td>\n",
              "      <td>0.000000</td>\n",
              "      <td>0.0</td>\n",
              "      <td>0.0</td>\n",
              "      <td>0.0</td>\n",
              "      <td>0.000000</td>\n",
              "      <td>0.0</td>\n",
              "      <td>0.0</td>\n",
              "      <td>0.000000</td>\n",
              "      <td>0.0</td>\n",
              "      <td>0.0</td>\n",
              "      <td>0.0</td>\n",
              "      <td>0.000000</td>\n",
              "      <td>0.0</td>\n",
              "      <td>0.0</td>\n",
              "      <td>0.0</td>\n",
              "      <td>0.000000</td>\n",
              "      <td>0.000000</td>\n",
              "      <td>0.000000</td>\n",
              "      <td>0.000000</td>\n",
              "      <td>0.0</td>\n",
              "    </tr>\n",
              "    <tr>\n",
              "      <th>3319</th>\n",
              "      <td>0.0</td>\n",
              "      <td>0.025343</td>\n",
              "      <td>0.0</td>\n",
              "      <td>0.0</td>\n",
              "      <td>0.0</td>\n",
              "      <td>0.000000</td>\n",
              "      <td>0.000000</td>\n",
              "      <td>0.0</td>\n",
              "      <td>0.000000</td>\n",
              "      <td>0.0</td>\n",
              "      <td>0.0</td>\n",
              "      <td>0.000000</td>\n",
              "      <td>0.000000</td>\n",
              "      <td>0.0</td>\n",
              "      <td>0.000000</td>\n",
              "      <td>0.000000</td>\n",
              "      <td>0.0</td>\n",
              "      <td>0.0</td>\n",
              "      <td>0.000000</td>\n",
              "      <td>0.003324</td>\n",
              "      <td>0.006157</td>\n",
              "      <td>0.000000</td>\n",
              "      <td>0.000000</td>\n",
              "      <td>0.000000</td>\n",
              "      <td>0.0</td>\n",
              "      <td>0.000000</td>\n",
              "      <td>0.0</td>\n",
              "      <td>0.000000</td>\n",
              "      <td>0.000000</td>\n",
              "      <td>0.000000</td>\n",
              "      <td>0.0</td>\n",
              "      <td>0.0</td>\n",
              "      <td>0.000000</td>\n",
              "      <td>0.00000</td>\n",
              "      <td>0.0</td>\n",
              "      <td>0.000000</td>\n",
              "      <td>0.0</td>\n",
              "      <td>0.0</td>\n",
              "      <td>0.0</td>\n",
              "      <td>0.000000</td>\n",
              "      <td>...</td>\n",
              "      <td>0.0</td>\n",
              "      <td>0.0</td>\n",
              "      <td>0.0</td>\n",
              "      <td>0.000000</td>\n",
              "      <td>0.0</td>\n",
              "      <td>0.0</td>\n",
              "      <td>0.0</td>\n",
              "      <td>0.000000</td>\n",
              "      <td>0.0</td>\n",
              "      <td>0.000000</td>\n",
              "      <td>0.000000</td>\n",
              "      <td>0.000000</td>\n",
              "      <td>0.0</td>\n",
              "      <td>0.000000</td>\n",
              "      <td>0.0</td>\n",
              "      <td>0.0</td>\n",
              "      <td>0.0</td>\n",
              "      <td>0.000000</td>\n",
              "      <td>0.000000</td>\n",
              "      <td>0.000000</td>\n",
              "      <td>0.000000</td>\n",
              "      <td>0.0</td>\n",
              "      <td>0.0</td>\n",
              "      <td>0.0</td>\n",
              "      <td>0.000000</td>\n",
              "      <td>0.0</td>\n",
              "      <td>0.0</td>\n",
              "      <td>0.000000</td>\n",
              "      <td>0.0</td>\n",
              "      <td>0.0</td>\n",
              "      <td>0.0</td>\n",
              "      <td>0.000000</td>\n",
              "      <td>0.0</td>\n",
              "      <td>0.0</td>\n",
              "      <td>0.0</td>\n",
              "      <td>0.000000</td>\n",
              "      <td>0.000000</td>\n",
              "      <td>0.000000</td>\n",
              "      <td>0.000000</td>\n",
              "      <td>0.0</td>\n",
              "    </tr>\n",
              "    <tr>\n",
              "      <th>3320</th>\n",
              "      <td>0.0</td>\n",
              "      <td>0.013971</td>\n",
              "      <td>0.0</td>\n",
              "      <td>0.0</td>\n",
              "      <td>0.0</td>\n",
              "      <td>0.000000</td>\n",
              "      <td>0.000000</td>\n",
              "      <td>0.0</td>\n",
              "      <td>0.000000</td>\n",
              "      <td>0.0</td>\n",
              "      <td>0.0</td>\n",
              "      <td>0.000000</td>\n",
              "      <td>0.000000</td>\n",
              "      <td>0.0</td>\n",
              "      <td>0.002088</td>\n",
              "      <td>0.003182</td>\n",
              "      <td>0.0</td>\n",
              "      <td>0.0</td>\n",
              "      <td>0.000000</td>\n",
              "      <td>0.003664</td>\n",
              "      <td>0.005091</td>\n",
              "      <td>0.002289</td>\n",
              "      <td>0.002079</td>\n",
              "      <td>0.000000</td>\n",
              "      <td>0.0</td>\n",
              "      <td>0.000000</td>\n",
              "      <td>0.0</td>\n",
              "      <td>0.000000</td>\n",
              "      <td>0.002096</td>\n",
              "      <td>0.003650</td>\n",
              "      <td>0.0</td>\n",
              "      <td>0.0</td>\n",
              "      <td>0.000000</td>\n",
              "      <td>0.00217</td>\n",
              "      <td>0.0</td>\n",
              "      <td>0.001892</td>\n",
              "      <td>0.0</td>\n",
              "      <td>0.0</td>\n",
              "      <td>0.0</td>\n",
              "      <td>0.000000</td>\n",
              "      <td>...</td>\n",
              "      <td>0.0</td>\n",
              "      <td>0.0</td>\n",
              "      <td>0.0</td>\n",
              "      <td>0.009289</td>\n",
              "      <td>0.0</td>\n",
              "      <td>0.0</td>\n",
              "      <td>0.0</td>\n",
              "      <td>0.000000</td>\n",
              "      <td>0.0</td>\n",
              "      <td>0.000000</td>\n",
              "      <td>0.000000</td>\n",
              "      <td>0.000000</td>\n",
              "      <td>0.0</td>\n",
              "      <td>0.000000</td>\n",
              "      <td>0.0</td>\n",
              "      <td>0.0</td>\n",
              "      <td>0.0</td>\n",
              "      <td>0.000000</td>\n",
              "      <td>0.000000</td>\n",
              "      <td>0.000000</td>\n",
              "      <td>0.000000</td>\n",
              "      <td>0.0</td>\n",
              "      <td>0.0</td>\n",
              "      <td>0.0</td>\n",
              "      <td>0.000000</td>\n",
              "      <td>0.0</td>\n",
              "      <td>0.0</td>\n",
              "      <td>0.000000</td>\n",
              "      <td>0.0</td>\n",
              "      <td>0.0</td>\n",
              "      <td>0.0</td>\n",
              "      <td>0.000000</td>\n",
              "      <td>0.0</td>\n",
              "      <td>0.0</td>\n",
              "      <td>0.0</td>\n",
              "      <td>0.011056</td>\n",
              "      <td>0.000000</td>\n",
              "      <td>0.000000</td>\n",
              "      <td>0.000000</td>\n",
              "      <td>0.0</td>\n",
              "    </tr>\n",
              "  </tbody>\n",
              "</table>\n",
              "<p>3321 rows × 6000 columns</p>\n",
              "</div>"
            ],
            "text/plain": [
              "      a_yinsfqea        aa  aac  aacr  ...      μgml        μl        μm  μmoll\n",
              "id                                     ...                                     \n",
              "0            0.0  0.000000  0.0   0.0  ...  0.000000  0.021731  0.022189    0.0\n",
              "1            0.0  0.000000  0.0   0.0  ...  0.000000  0.000000  0.000000    0.0\n",
              "2            0.0  0.000000  0.0   0.0  ...  0.000000  0.000000  0.000000    0.0\n",
              "3            0.0  0.000000  0.0   0.0  ...  0.000000  0.004152  0.000000    0.0\n",
              "4            0.0  0.000000  0.0   0.0  ...  0.003582  0.000000  0.003153    0.0\n",
              "...          ...       ...  ...   ...  ...       ...       ...       ...    ...\n",
              "3316         0.0  0.002329  0.0   0.0  ...  0.002015  0.006254  0.001774    0.0\n",
              "3317         0.0  0.000000  0.0   0.0  ...  0.000000  0.002785  0.000000    0.0\n",
              "3318         0.0  0.000000  0.0   0.0  ...  0.000000  0.000000  0.000000    0.0\n",
              "3319         0.0  0.025343  0.0   0.0  ...  0.000000  0.000000  0.000000    0.0\n",
              "3320         0.0  0.013971  0.0   0.0  ...  0.000000  0.000000  0.000000    0.0\n",
              "\n",
              "[3321 rows x 6000 columns]"
            ]
          },
          "metadata": {},
          "execution_count": 240
        }
      ]
    },
    {
      "cell_type": "code",
      "metadata": {
        "id": "hANYwy8Cmdhv"
      },
      "source": [
        "n_samples = 2000\n",
        "vocabulary_length = 6000\n",
        "n_components = 9\n",
        "n_top_words = 20"
      ],
      "execution_count": 241,
      "outputs": []
    },
    {
      "cell_type": "code",
      "metadata": {
        "id": "VvRWm_tZmYeR"
      },
      "source": [
        "tf_vectorizer = CountVectorizer(analyzer='word',stop_words= 'english',max_features=vocabulary_length)\n",
        "tf = tf_vectorizer.fit_transform(df_merge.text)\n",
        "\n",
        "nmf = NMF(n_components=n_components, random_state=1, alpha=0.1, l1_ratio=0.5).fit(tfidf_wm)\n",
        "\n",
        "tfidf_feature_names = tfidfvectorizer.get_feature_names()"
      ],
      "execution_count": 242,
      "outputs": []
    },
    {
      "cell_type": "code",
      "metadata": {
        "colab": {
          "base_uri": "https://localhost:8080/",
          "height": 718
        },
        "id": "b8vdow67kxoe",
        "outputId": "bd577fa3-43be-43ae-b176-7173327364d0"
      },
      "source": [
        "def plot_top_words(model, feature_names, n_top_words, title):\n",
        "    fig, axes = plt.subplots(2, 5, figsize=(20, 10), sharex=True)\n",
        "    axes = axes.flatten()\n",
        "    for topic_idx, topic in enumerate(model.components_):\n",
        "        top_features_ind = topic.argsort()[: -n_top_words - 1 : -1]\n",
        "        top_features = [feature_names[i] for i in top_features_ind]\n",
        "        weights = topic[top_features_ind]\n",
        "\n",
        "        ax = axes[topic_idx]\n",
        "        ax.barh(top_features, weights, height=0.7)\n",
        "        ax.set_title(f\"Topic {topic_idx +1}\", fontdict={\"fontsize\": 20})\n",
        "        ax.invert_yaxis()\n",
        "        ax.tick_params(axis=\"both\", which=\"major\", labelsize=10)\n",
        "        for i in \"top right left\".split():\n",
        "            ax.spines[i].set_visible(False)\n",
        "        fig.suptitle(title, fontsize=30)\n",
        "\n",
        "    plt.subplots_adjust(top=0.90, bottom=0.05, wspace=0.90, hspace=0.3)\n",
        "    plt.show()\n",
        "\n",
        "plot_top_words(  nmf, tfidf_feature_names, n_top_words, \"Topics in NMF model (Frobenius norm)\")  "
      ],
      "execution_count": 243,
      "outputs": [
        {
          "output_type": "display_data",
          "data": {
            "image/png": "[encoded data removed]",
            "text/plain": [
              "<Figure size 1440x720 with 10 Axes>"
            ]
          },
          "metadata": {
            "needs_background": "light"
          }
        }
      ]
    },
    {
      "cell_type": "code",
      "metadata": {
        "id": "TSjmYLwYzSfJ"
      },
      "source": [
        "class_text = [''] * 9\n",
        "for idx, classe in enumerate(df_merge['class']):\n",
        "    class_text[classe-1] += df_merge['text'][idx]"
      ],
      "execution_count": 244,
      "outputs": []
    },
    {
      "cell_type": "code",
      "metadata": {
        "id": "YBx0CrqQPPq6"
      },
      "source": [
        "text = [''] \n",
        "for idx in range(len(df_merge['text'])):\n",
        "  text += df_merge['text'][idx]"
      ],
      "execution_count": 245,
      "outputs": []
    },
    {
      "cell_type": "code",
      "metadata": {
        "colab": {
          "base_uri": "https://localhost:8080/"
        },
        "id": "XrkavOJ8mw9D",
        "outputId": "02dc17d6-6b66-47cd-f7af-eef51652483b"
      },
      "source": [
        "most_word = dict(Counter(strin.split()).most_common(20))\n",
        "most_word"
      ],
      "execution_count": 246,
      "outputs": [
        {
          "output_type": "execute_result",
          "data": {
            "text/plain": [
              "{'al': 2032,\n",
              " 'analysis': 1239,\n",
              " 'cell': 5964,\n",
              " 'et': 2034,\n",
              " 'expression': 1685,\n",
              " 'ezh': 1298,\n",
              " 'fig': 1379,\n",
              " 'figure': 2404,\n",
              " 'gene': 2559,\n",
              " 'idh': 4073,\n",
              " 'level': 1314,\n",
              " 'mutant': 3089,\n",
              " 'mutation': 4739,\n",
              " 'patient': 1313,\n",
              " 'protein': 1262,\n",
              " 'sample': 1297,\n",
              " 'sfb': 2444,\n",
              " 'splicing': 2137,\n",
              " 'uaf': 1761,\n",
              " 'using': 1517}"
            ]
          },
          "metadata": {},
          "execution_count": 246
        }
      ]
    },
    {
      "cell_type": "code",
      "metadata": {
        "colab": {
          "base_uri": "https://localhost:8080/"
        },
        "id": "yiKxCJpsOPhu",
        "outputId": "3763c47d-4d88-4913-a3c0-011ab77ce7e1"
      },
      "source": [
        "from collections import Counter\n",
        "collect=[]\n",
        "for strin in class_text:\n",
        "  collect.append(dict(Counter(strin.split()).most_common(5)))\n",
        "collect[0]"
      ],
      "execution_count": 247,
      "outputs": [
        {
          "output_type": "execute_result",
          "data": {
            "text/plain": [
              "{'cell': 45829, 'gene': 21934, 'mutation': 50546, 'p': 29643, 'protein': 24999}"
            ]
          },
          "metadata": {},
          "execution_count": 247
        }
      ]
    },
    {
      "cell_type": "code",
      "metadata": {
        "colab": {
          "base_uri": "https://localhost:8080/",
          "height": 167
        },
        "id": "dHgS7x60izp2",
        "outputId": "8a306338-900b-4ff5-fd79-eeacfaa3e767"
      },
      "source": [
        "collect[idx].keys()"
      ],
      "execution_count": 248,
      "outputs": [
        {
          "output_type": "error",
          "ename": "IndexError",
          "evalue": "ignored",
          "traceback": [
            "\u001b[0;31m---------------------------------------------------------------------------\u001b[0m",
            "\u001b[0;31mIndexError\u001b[0m                                Traceback (most recent call last)",
            "\u001b[0;32m<ipython-input-248-cbfb2bde8af3>\u001b[0m in \u001b[0;36m<module>\u001b[0;34m()\u001b[0m\n\u001b[0;32m----> 1\u001b[0;31m \u001b[0mcollect\u001b[0m\u001b[0;34m[\u001b[0m\u001b[0midx\u001b[0m\u001b[0;34m]\u001b[0m\u001b[0;34m.\u001b[0m\u001b[0mkeys\u001b[0m\u001b[0;34m(\u001b[0m\u001b[0;34m)\u001b[0m\u001b[0;34m\u001b[0m\u001b[0;34m\u001b[0m\u001b[0m\n\u001b[0m",
            "\u001b[0;31mIndexError\u001b[0m: list index out of range"
          ]
        }
      ]
    },
    {
      "cell_type": "code",
      "metadata": {
        "id": "82fDSww-wRFs",
        "colab": {
          "base_uri": "https://localhost:8080/",
          "height": 672
        },
        "outputId": "05bb5032-a358-4be7-c245-a5ac5689b4d8"
      },
      "source": [
        "fig, axes = plt.subplots(nrows=3, ncols=3, sharey=True, figsize=(15,9))\n",
        "class_i = [568, 452, 89, 686, 242, 275, 953, 19, 37]\n",
        "for idx in range(9):\n",
        "    labels = list(collect[idx].keys())\n",
        "    val  = [ x/class_i[idx] for x in collect[idx].values()]\n",
        "    ax = axes.flat[idx]\n",
        "    ax.bar(labels, val,\n",
        "           tick_label=labels) \n",
        "    ax.set_title(\"Class {}\".format(idx+1),fontweight='bold')\n",
        "    \n",
        "fig.text(0.5, 0.97, '(Top 5) Words Frequency per Class', ha='center', fontsize=14, fontweight='bold')\n",
        "fig.text(0.5, 0, 'Word', ha='center', fontweight='bold')\n",
        "fig.text(0, 0.5, 'Frequency', va='center', rotation='vertical', fontweight='bold')\n",
        "fig.tight_layout(rect=[0.03, 0.03, 0.95, 0.95])\n",
        "plt.savefig('class_words.png')"
      ],
      "execution_count": 249,
      "outputs": [
        {
          "output_type": "display_data",
          "data": {
            "image/png": "[encoded data removed]",
            "text/plain": [
              "<Figure size 1080x648 with 9 Axes>"
            ]
          },
          "metadata": {
            "needs_background": "light"
          }
        }
      ]
    },
    {
      "cell_type": "code",
      "metadata": {
        "id": "UCl55_YIv7Gj"
      },
      "source": [
        "import gc\n",
        "import seaborn as sns\n",
        "from sklearn.manifold import TSNE\n",
        "import matplotlib.pyplot as plt\n",
        "from sklearn.decomposition import PCA\n",
        "\n",
        "# gc.collect()\n",
        "# tfIdfMatrix = tfidf_wm.todense()\n",
        "# labels = df_merge['class'].tolist()\n",
        "# tsne_results = TSNE(n_components=2,init='random',random_state=0).fit_transform(tfIdfMatrix)\n",
        "# plt.figure(figsize=(20,10))\n",
        "# palette = sns.hls_palette(9, l=.3, s=.9)\n",
        "# sns.scatterplot(\n",
        "#     x=tsne_results[:,0], y=tsne_results[:,1],\n",
        "#     hue=labels,\n",
        "#     palette= palette,\n",
        "#     legend=\"full\",\n",
        "#     alpha=0.3\n",
        "# )\n",
        "# plt.show()"
      ],
      "execution_count": 250,
      "outputs": []
    },
    {
      "cell_type": "code",
      "metadata": {
        "id": "zsF90dqvbdfz"
      },
      "source": [
        "gc.collect()\n",
        "pca = PCA(n_components=0.95)\n",
        "tfIdfMat_reduced = pca.fit_transform(tfidf_wm.toarray())\n",
        "labels = df_merge['class'].tolist()\n",
        "category_list = df_merge['class'].unique()\n",
        "X_train, X_test, y_train, y_test = train_test_split(tfIdfMat_reduced, labels, stratify=labels,random_state=1)  "
      ],
      "execution_count": 251,
      "outputs": []
    },
    {
      "cell_type": "code",
      "metadata": {
        "colab": {
          "base_uri": "https://localhost:8080/"
        },
        "id": "bOA-xShEyme5",
        "outputId": "3aeb180f-2b28-4ff4-9232-5e332b020cc9"
      },
      "source": [
        "df_pca = pd.DataFrame(data = tfIdfMat_reduced,index = df_merge.id)\n",
        "X_train, X_test, y_train, y_test = train_test_split(df_pca, labels, stratify=labels,random_state=1)\n",
        "X_train[0]"
      ],
      "execution_count": 252,
      "outputs": [
        {
          "output_type": "execute_result",
          "data": {
            "text/plain": [
              "id\n",
              "2445    0.676099\n",
              "2919   -0.077197\n",
              "261    -0.176109\n",
              "1837   -0.055046\n",
              "860    -0.106333\n",
              "          ...   \n",
              "704    -0.124922\n",
              "1290   -0.061125\n",
              "3206   -0.070809\n",
              "209    -0.024590\n",
              "2948   -0.084374\n",
              "Name: 0, Length: 2490, dtype: float64"
            ]
          },
          "metadata": {},
          "execution_count": 252
        }
      ]
    },
    {
      "cell_type": "code",
      "metadata": {
        "colab": {
          "base_uri": "https://localhost:8080/",
          "height": 623
        },
        "id": "RcfxK1WbzKoo",
        "outputId": "2de67de7-79b0-4de9-b223-50d994699d47"
      },
      "source": [
        "plt.figure(figsize=(20,10))\n",
        "labels = df_merge['class'].tolist()\n",
        "sns.scatterplot(x = df_pca [:][0], y= df_pca [:][1],\n",
        "    hue=labels,\n",
        "    legend=\"auto\"\n",
        ")"
      ],
      "execution_count": 253,
      "outputs": [
        {
          "output_type": "execute_result",
          "data": {
            "text/plain": [
              "<matplotlib.axes._subplots.AxesSubplot at 0x7f79636d5210>"
            ]
          },
          "metadata": {},
          "execution_count": 253
        },
        {
          "output_type": "display_data",
          "data": {
            "image/png": "[encoded data removed]",
            "text/plain": [
              "<Figure size 1440x720 with 1 Axes>"
            ]
          },
          "metadata": {
            "needs_background": "light"
          }
        }
      ]
    },
    {
      "cell_type": "code",
      "metadata": {
        "colab": {
          "base_uri": "https://localhost:8080/",
          "height": 621
        },
        "id": "OxZnwS3-7eYr",
        "outputId": "f6b4b552-f299-477c-e83e-ae26af816e18"
      },
      "source": [
        "fig = plt.figure(figsize=(30,10))\n",
        "dfScree = pd.DataFrame({'var':pca.explained_variance_ratio_,'PC': np.arange(1, len(pca.explained_variance_ratio_)+1, step=1)})\n",
        "sns.barplot(x='PC',y=\"var\",data=dfScree, color=\"c\").set_title('Component Variance');"
      ],
      "execution_count": 254,
      "outputs": [
        {
          "output_type": "display_data",
          "data": {
            "image/png": "[encoded data removed]",
            "text/plain": [
              "<Figure size 2160x720 with 1 Axes>"
            ]
          },
          "metadata": {
            "needs_background": "light"
          }
        }
      ]
    },
    {
      "cell_type": "code",
      "metadata": {
        "colab": {
          "base_uri": "https://localhost:8080/",
          "height": 283
        },
        "id": "k_rdfysQ4Dd0",
        "outputId": "e0bfc834-9e62-44c6-c0bd-040aeb373420"
      },
      "source": [
        "y = df_merge['class'].tolist()\n",
        "def myplot(score,coeff,labels=None):\n",
        "    xs = score[:,0]\n",
        "    ys = score[:,1]\n",
        "    n = coeff.shape[0]\n",
        "    scalex = 1.0/(xs.max() - xs.min())\n",
        "    scaley = 1.0/(ys.max() - ys.min())\n",
        "    plt.scatter(xs * scalex,ys * scaley, c = y)\n",
        "    for i in range(n):\n",
        "        plt.arrow(0, 0, coeff[i,0], coeff[i,1],color = 'r',alpha = 0.5)\n",
        "        if labels is None:\n",
        "            plt.text(coeff[i,0]* 1.15, coeff[i,1] * 1.15, \"Var\"+str(i+1), color = 'g', ha = 'center', va = 'center')\n",
        "        else:\n",
        "            plt.text(coeff[i,0]* 1.15, coeff[i,1] * 1.15, labels[i], color = 'g', ha = 'center', va = 'center')\n",
        "    plt.xlim(-1,1)\n",
        "    plt.ylim(-1,1)\n",
        "    plt.xlabel(\"PC{}\".format(1))\n",
        "    plt.ylabel(\"PC{}\".format(2))\n",
        "    plt.grid()\n",
        "\n",
        "#Call the function. Use only the 2 PCs.\n",
        "myplot(tfIdfMat_reduced[:,0:2],np.transpose(pca.components_[0:2, :]))\n",
        "plt.show()"
      ],
      "execution_count": 255,
      "outputs": [
        {
          "output_type": "display_data",
          "data": {
            "image/png": "[encoded data removed]",
            "text/plain": [
              "<Figure size 432x288 with 1 Axes>"
            ]
          },
          "metadata": {
            "needs_background": "light"
          }
        }
      ]
    },
    {
      "cell_type": "code",
      "metadata": {
        "colab": {
          "base_uri": "https://localhost:8080/",
          "height": 404
        },
        "id": "yyX2YMdl7ID8",
        "outputId": "b4996233-b5b8-4415-d5b1-251bb8508809"
      },
      "source": [
        "plt.rcParams[\"figure.figsize\"] = (12,6)\n",
        "fig, ax = plt.subplots()\n",
        "xi = np.arange(1,len(pca.explained_variance_ratio_)+1, step=1)\n",
        "y = np.cumsum(pca.explained_variance_ratio_)\n",
        "plt.ylim(0.0,1.1)\n",
        "plt.plot(xi, y, linestyle='-', color='b')\n",
        "plt.xlabel('Fig 1 Number of Components')\n",
        "plt.xticks(np.arange(0, len(pca.explained_variance_ratio_), step=50)) \n",
        "plt.ylabel('Cumulative variance (%)')\n",
        "plt.title('The number of components needed to explain variance')\n",
        "plt.axhline(y=0.95, color='r', linestyle='-')\n",
        "plt.text(0.5, 0.85, '95% cut-off threshold', color = 'red', fontsize=16)\n",
        "ax.grid(axis='x')\n",
        "plt.show()"
      ],
      "execution_count": 257,
      "outputs": [
        {
          "output_type": "display_data",
          "data": {
            "image/png": "[encoded data removed]",
            "text/plain": [
              "<Figure size 864x432 with 1 Axes>"
            ]
          },
          "metadata": {
            "needs_background": "light"
          }
        }
      ]
    },
    {
      "cell_type": "code",
      "metadata": {
        "id": "2lb50n_vmgdJ"
      },
      "source": [
        "# print Vocabulary\n",
        "tfidf_tokens = tfidfvectorizer.get_feature_names()"
      ],
      "execution_count": 258,
      "outputs": []
    },
    {
      "cell_type": "markdown",
      "metadata": {
        "id": "83nyEsldhhNa"
      },
      "source": [
        "## CNN : convolutional neural network\n"
      ]
    },
    {
      "cell_type": "code",
      "metadata": {
        "id": "vjs3Dpedm6Ly"
      },
      "source": [
        "from tensorflow.keras.layers import SpatialDropout1D, Dropout, MaxPooling1D, Flatten\n",
        "from tensorflow.keras.layers import Input, Dense, Conv1D, Add\n",
        "from tensorflow.keras import layers \n",
        "from tensorflow.keras import Model\n",
        "from tensorflow.keras.utils import to_categorical\n",
        "from keras.callbacks import EarlyStopping"
      ],
      "execution_count": 259,
      "outputs": []
    },
    {
      "cell_type": "code",
      "metadata": {
        "id": "tj_62AmVm9Ca"
      },
      "source": [
        "# y_test = test_y.to_numpy()\n",
        "y_train2 = [x-1 for x in y_train]\n",
        "y_test2 = [x-1 for x in y_test]\n",
        "# Categorical\n",
        "y_train_cat = to_categorical(y_train2, num_classes=9, dtype =\"uint8\")\n",
        "y_test_cat = to_categorical(y_test2, num_classes=9, dtype =\"uint8\")"
      ],
      "execution_count": 260,
      "outputs": []
    },
    {
      "cell_type": "markdown",
      "metadata": {
        "id": "gJMNctwCHQc6"
      },
      "source": [
        "# Model"
      ]
    },
    {
      "cell_type": "code",
      "metadata": {
        "id": "g9fP8ID-Vs_O"
      },
      "source": [
        "input = Input(shape=(X_train.shape[1], 1)) \n",
        "x = SpatialDropout1D(0.15)(input)\n",
        "x = Conv1D(filters=128, kernel_size=5, activation='relu')(x)\n",
        "#x = Dropout(0.5)(x)\n",
        "x = Conv1D(filters=128, kernel_size=5, activation='relu')(x)\n",
        "#x = Dropout(0.5)(x)\n",
        "x = Conv1D(filters=128, kernel_size=5, activation='relu')(x)\n",
        "x = Conv1D(filters=128, kernel_size=5, activation='relu')(x)\n",
        "x = Conv1D(filters=128, kernel_size=5, activation='relu')(x)\n",
        "#x = Dropout(0.5)(x)\n",
        "#x = layers.MaxPooling1D(pool_size=2)(x)\n",
        "x = Flatten()(x)\n",
        "out = Dense(9, activation='softmax')(x)\n",
        "model = Model(input, out)\n",
        "model.compile(optimizer='adam',\n",
        "              loss='categorical_crossentropy',\n",
        "              metrics=['accuracy'])"
      ],
      "execution_count": 261,
      "outputs": []
    },
    {
      "cell_type": "markdown",
      "metadata": {
        "id": "ji5P8F3yHUVc"
      },
      "source": [
        "# Trainning"
      ]
    },
    {
      "cell_type": "code",
      "metadata": {
        "id": "U614L5rLJBD_"
      },
      "source": [
        "history = model.fit(X_train, y_train_cat, batch_size=140, epochs=20, verbose=0, validation_split=0.2,  callbacks = EarlyStopping( monitor = \"val_loss\" ,patience=10))  # starts trainin"
      ],
      "execution_count": 262,
      "outputs": []
    },
    {
      "cell_type": "code",
      "metadata": {
        "colab": {
          "base_uri": "https://localhost:8080/",
          "height": 421
        },
        "id": "TTjcRDAdKAij",
        "outputId": "f57b118c-d4f4-4d5f-bdea-e3e19db5ecea"
      },
      "source": [
        "plt.plot(history.history['accuracy'])\n",
        "plt.plot(history.history['val_accuracy'])\n",
        "plt.title('model Accuracy')\n",
        "plt.ylabel('loss')\n",
        "plt.xlabel('epoch')\n",
        "plt.legend(['accuracy','val_accuracy'],loc = 'upper left')\n",
        "plt.show"
      ],
      "execution_count": 263,
      "outputs": [
        {
          "output_type": "execute_result",
          "data": {
            "text/plain": [
              "<function matplotlib.pyplot.show>"
            ]
          },
          "metadata": {},
          "execution_count": 263
        },
        {
          "output_type": "display_data",
          "data": {
            "image/png": "[encoded data removed]",
            "text/plain": [
              "<Figure size 864x432 with 1 Axes>"
            ]
          },
          "metadata": {
            "needs_background": "light"
          }
        }
      ]
    },
    {
      "cell_type": "code",
      "metadata": {
        "id": "UUwBu6OQKNLK"
      },
      "source": [
        "import matplotlib.pyplot as plt\n",
        "from sklearn.metrics import confusion_matrix, plot_confusion_matrix\n",
        "from sklearn.metrics import ConfusionMatrixDisplay\n",
        "from google.colab import files\n",
        "# predictions\n",
        "predictions = model.predict(X_test)\n",
        "y_pred = np.array([[False]*9]*len(predictions))\n",
        "for i, elem in enumerate(predictions.argmax(axis=1)):\n",
        "  y_pred[i][elem] = True\n",
        "matrix = np.around(confusion_matrix(y_test_cat.argmax(axis=1), predictions.argmax(axis=1), normalize='pred'),2)"
      ],
      "execution_count": 264,
      "outputs": []
    },
    {
      "cell_type": "code",
      "metadata": {
        "id": "Ydo42KJrsKW_"
      },
      "source": [
        "from sklearn.metrics import accuracy_score\n",
        "score = accuracy_score(y_test_cat, y_pred)"
      ],
      "execution_count": 265,
      "outputs": []
    },
    {
      "cell_type": "code",
      "metadata": {
        "colab": {
          "base_uri": "https://localhost:8080/",
          "height": 621
        },
        "id": "NBWmFq4TvFA4",
        "outputId": "7854bddd-c733-4190-ca94-9bf0930a1b4e"
      },
      "source": [
        "fig = plt.figure(figsize=(10,10))\n",
        "ax= fig.add_subplot(1,1,1)\n",
        "sns.heatmap(matrix, annot=True, cmap=\"Greens\",ax = ax,fmt='g'); #annot=True to annotate cells\n",
        "\n",
        "# labels, title and ticks\n",
        "ax.set_xlabel('Predicted labels');ax.set_ylabel('True labels'); \n",
        "ax.set_title('Confusion Matrix'); \n",
        "plt.setp(ax.get_yticklabels(), horizontalalignment='right')\n",
        "plt.setp(ax.get_xticklabels(), horizontalalignment='right')     \n",
        "plt.show()"
      ],
      "execution_count": 266,
      "outputs": [
        {
          "output_type": "display_data",
          "data": {
            "image/png": "[encoded data removed]",
            "text/plain": [
              "<Figure size 720x720 with 2 Axes>"
            ]
          },
          "metadata": {
            "needs_background": "light"
          }
        }
      ]
    },
    {
      "cell_type": "markdown",
      "metadata": {
        "id": "ut5sXzikR5AE"
      },
      "source": [
        "#SMOTE OVERSAMPLING"
      ]
    },
    {
      "cell_type": "code",
      "metadata": {
        "id": "Kr9i_8GLaZ4l"
      },
      "source": [
        "smote_over_sample = SMOTE(sampling_strategy='not majority')\n",
        "labels = df_merge['class'].tolist()\n",
        "X, y = smote_over_sample.fit_resample(tfIdfMat_reduced, labels)\n",
        "X_train_res, X_test_res, y_train_res, y_test_res = train_test_split(X, y, stratify=y,random_state=1)   "
      ],
      "execution_count": 267,
      "outputs": []
    },
    {
      "cell_type": "code",
      "metadata": {
        "colab": {
          "base_uri": "https://localhost:8080/",
          "height": 412
        },
        "id": "uldW8Rr9nxgK",
        "outputId": "8f50c417-34d3-47b4-9ce6-d38357ab68fb"
      },
      "source": [
        "(pd.DataFrame(y_train_res).value_counts(sort=True)).plot(kind='bar')\n",
        "plt.plot()"
      ],
      "execution_count": 268,
      "outputs": [
        {
          "output_type": "execute_result",
          "data": {
            "text/plain": [
              "[]"
            ]
          },
          "metadata": {},
          "execution_count": 268
        },
        {
          "output_type": "display_data",
          "data": {
            "image/png": "[encoded data removed]",
            "text/plain": [
              "<Figure size 864x432 with 1 Axes>"
            ]
          },
          "metadata": {
            "needs_background": "light"
          }
        }
      ]
    },
    {
      "cell_type": "code",
      "metadata": {
        "colab": {
          "base_uri": "https://localhost:8080/",
          "height": 391
        },
        "id": "xlwphm9Bhy8D",
        "outputId": "3687d767-7280-404b-fefb-ef0ced1d5bf3"
      },
      "source": [
        "(df_merge['class'].value_counts(sort=True)).plot(kind='bar')\n",
        "plt.plot()"
      ],
      "execution_count": 269,
      "outputs": [
        {
          "output_type": "execute_result",
          "data": {
            "text/plain": [
              "[]"
            ]
          },
          "metadata": {},
          "execution_count": 269
        },
        {
          "output_type": "display_data",
          "data": {
            "image/png": "[encoded data removed]",
            "text/plain": [
              "<Figure size 864x432 with 1 Axes>"
            ]
          },
          "metadata": {
            "needs_background": "light"
          }
        }
      ]
    },
    {
      "cell_type": "code",
      "metadata": {
        "id": "Z5Tc9HKeiaES"
      },
      "source": [
        "y_train2_res = [x-1 for x in y_train_res]\n",
        "y_test2_res = [x-1 for x in y_test_res]\n",
        "# Categorical\n",
        "y_train_res_cat = to_categorical(y_train2_res, num_classes=9, dtype =\"uint8\")\n",
        "y_test_res_cat = to_categorical(y_test2_res, num_classes=9, dtype =\"uint8\")"
      ],
      "execution_count": 270,
      "outputs": []
    },
    {
      "cell_type": "code",
      "metadata": {
        "colab": {
          "base_uri": "https://localhost:8080/"
        },
        "id": "VpFc1uba1R1a",
        "outputId": "c3cad076-52be-4bce-a206-90712fd83ebe"
      },
      "source": [
        "input = Input(shape=(X_train.shape[1], 1)) \n",
        "x = SpatialDropout1D(0.1)(input)\n",
        "x = Conv1D(filters=128, kernel_size=5, activation='relu')(x)\n",
        "x = Conv1D(filters=128, kernel_size=5, activation='relu')(x)\n",
        "x = Conv1D(filters=128, kernel_size=5, activation='relu')(x)\n",
        "x = Conv1D(filters=128, kernel_size=5, activation='relu')(x)\n",
        "#x = Conv1D(filters=128, kernel_size=5, activation='relu')(x)\n",
        "\n",
        "x = Flatten()(x)\n",
        "out = Dense(9, activation='softmax')(x)\n",
        "print(x.shape)\n",
        "model = Model(input, out)\n",
        "model.compile(optimizer='adam',\n",
        "              loss='categorical_crossentropy',\n",
        "              metrics=['accuracy'])"
      ],
      "execution_count": 271,
      "outputs": [
        {
          "output_type": "stream",
          "name": "stdout",
          "text": [
            "(None, 74496)\n"
          ]
        }
      ]
    },
    {
      "cell_type": "code",
      "metadata": {
        "id": "pbwWNYa9iubF"
      },
      "source": [
        "history = model.fit(X_train_res, y_train_res_cat, batch_size=180, epochs=40, verbose=0, validation_split = 0.1,  callbacks = EarlyStopping( monitor = \"val_loss\",patience=10))  # starts trainin"
      ],
      "execution_count": 272,
      "outputs": []
    },
    {
      "cell_type": "code",
      "metadata": {
        "colab": {
          "base_uri": "https://localhost:8080/",
          "height": 421
        },
        "id": "YFNa1yN6jTD8",
        "outputId": "238e2778-85c3-4ecd-c575-a15d5474cc2a"
      },
      "source": [
        "plt.plot(history.history['accuracy'])\n",
        "plt.plot(history.history['val_accuracy'])\n",
        "plt.title('model Accuracy')\n",
        "plt.ylabel('accuracy')\n",
        "plt.xlabel('epoch')\n",
        "plt.legend(['accuracy','val_accuracy'],loc = 'upper left')\n",
        "plt.show"
      ],
      "execution_count": 273,
      "outputs": [
        {
          "output_type": "execute_result",
          "data": {
            "text/plain": [
              "<function matplotlib.pyplot.show>"
            ]
          },
          "metadata": {},
          "execution_count": 273
        },
        {
          "output_type": "display_data",
          "data": {
            "image/png": "[encoded data removed]",
            "text/plain": [
              "<Figure size 864x432 with 1 Axes>"
            ]
          },
          "metadata": {
            "needs_background": "light"
          }
        }
      ]
    },
    {
      "cell_type": "code",
      "metadata": {
        "id": "UAq5jEj5P2A4"
      },
      "source": [
        "plt.plot(history.history['loss'])\n",
        "plt.plot(history.history['val_loss'])\n",
        "plt.title('model Loss')\n",
        "plt.ylabel('loss')\n",
        "plt.xlabel('epoch')\n",
        "plt.legend(['Loss','val_loss'],loc = 'upper left')\n",
        "plt.show"
      ],
      "execution_count": null,
      "outputs": []
    },
    {
      "cell_type": "code",
      "metadata": {
        "id": "RA4bHkMBj1eL"
      },
      "source": [
        "import matplotlib.pyplot as plt\n",
        "from sklearn.metrics import confusion_matrix, plot_confusion_matrix\n",
        "from sklearn.metrics import ConfusionMatrixDisplay\n",
        "from google.colab import files\n",
        "# predictions\n",
        "predictions = model.predict(X_test)\n",
        "y_pred = np.array([[False]*9]*len(predictions))\n",
        "for i, elem in enumerate(predictions.argmax(axis=1)):\n",
        "  y_pred[i][elem] = True\n",
        "matrix = np.around(confusion_matrix(y_test_cat.argmax(axis=1), y_pred.argmax(axis=1), normalize='true'),2)"
      ],
      "execution_count": 274,
      "outputs": []
    },
    {
      "cell_type": "markdown",
      "metadata": {
        "id": "b90zwrCbDUVt"
      },
      "source": [
        "## Predictions Analysis"
      ]
    },
    {
      "cell_type": "code",
      "metadata": {
        "id": "FvA0GwpQ2_ev"
      },
      "source": [
        "vec_pred = y_pred.argmax(axis=1) == y_test_cat.argmax(axis=1)\n",
        "vec_test = list(X_test.index.values)\n",
        "data_pred = pd.DataFrame({'pred': vec_pred, 'id': vec_test})"
      ],
      "execution_count": 275,
      "outputs": []
    },
    {
      "cell_type": "code",
      "metadata": {
        "colab": {
          "base_uri": "https://localhost:8080/",
          "height": 206
        },
        "id": "9eYxFvCT3GeW",
        "outputId": "66348831-1947-40a5-d34d-fa7a879250bc"
      },
      "source": [
        "dd_analysis_test = pd.merge(data_pred,df_merge, on= 'id')\n",
        "dd_analysis_test.head()"
      ],
      "execution_count": 276,
      "outputs": [
        {
          "output_type": "execute_result",
          "data": {
            "text/html": [
              "<div>\n",
              "<style scoped>\n",
              "    .dataframe tbody tr th:only-of-type {\n",
              "        vertical-align: middle;\n",
              "    }\n",
              "\n",
              "    .dataframe tbody tr th {\n",
              "        vertical-align: top;\n",
              "    }\n",
              "\n",
              "    .dataframe thead th {\n",
              "        text-align: right;\n",
              "    }\n",
              "</style>\n",
              "<table border=\"1\" class=\"dataframe\">\n",
              "  <thead>\n",
              "    <tr style=\"text-align: right;\">\n",
              "      <th></th>\n",
              "      <th>pred</th>\n",
              "      <th>id</th>\n",
              "      <th>gene</th>\n",
              "      <th>variation</th>\n",
              "      <th>class</th>\n",
              "      <th>text</th>\n",
              "      <th>Text_num_words</th>\n",
              "    </tr>\n",
              "  </thead>\n",
              "  <tbody>\n",
              "    <tr>\n",
              "      <th>0</th>\n",
              "      <td>True</td>\n",
              "      <td>418</td>\n",
              "      <td>TP53</td>\n",
              "      <td>R110L</td>\n",
              "      <td>1</td>\n",
              "      <td>many p missense mutation posse dominantnegativ...</td>\n",
              "      <td>8038</td>\n",
              "    </tr>\n",
              "    <tr>\n",
              "      <th>1</th>\n",
              "      <td>True</td>\n",
              "      <td>2452</td>\n",
              "      <td>BRCA1</td>\n",
              "      <td>C39Y</td>\n",
              "      <td>4</td>\n",
              "      <td>published analysis effect missense mutation br...</td>\n",
              "      <td>13508</td>\n",
              "    </tr>\n",
              "    <tr>\n",
              "      <th>2</th>\n",
              "      <td>True</td>\n",
              "      <td>2530</td>\n",
              "      <td>BRCA1</td>\n",
              "      <td>G1738R</td>\n",
              "      <td>4</td>\n",
              "      <td>abstract brca gene individual risk breast ovar...</td>\n",
              "      <td>7582</td>\n",
              "    </tr>\n",
              "    <tr>\n",
              "      <th>3</th>\n",
              "      <td>False</td>\n",
              "      <td>1593</td>\n",
              "      <td>VHL</td>\n",
              "      <td>V84L</td>\n",
              "      <td>6</td>\n",
              "      <td>von hippellindau tumor suppressor protein pvhl...</td>\n",
              "      <td>4346</td>\n",
              "    </tr>\n",
              "    <tr>\n",
              "      <th>4</th>\n",
              "      <td>True</td>\n",
              "      <td>1198</td>\n",
              "      <td>PIK3CA</td>\n",
              "      <td>Amplification</td>\n",
              "      <td>2</td>\n",
              "      <td>ovarian cancer fifthleading cause cancer death...</td>\n",
              "      <td>38425</td>\n",
              "    </tr>\n",
              "  </tbody>\n",
              "</table>\n",
              "</div>"
            ],
            "text/plain": [
              "    pred  ...  Text_num_words\n",
              "0   True  ...            8038\n",
              "1   True  ...           13508\n",
              "2   True  ...            7582\n",
              "3  False  ...            4346\n",
              "4   True  ...           38425\n",
              "\n",
              "[5 rows x 7 columns]"
            ]
          },
          "metadata": {},
          "execution_count": 276
        }
      ]
    },
    {
      "cell_type": "code",
      "metadata": {
        "colab": {
          "base_uri": "https://localhost:8080/",
          "height": 500
        },
        "id": "v5Ps3-Dh4iNS",
        "outputId": "471c36f0-e588-4321-dd04-a63df9697942"
      },
      "source": [
        "plt.figure(figsize=(12,8))\n",
        "sns.boxplot(x='pred', y='Text_num_words', data=dd_analysis_test)\n",
        "plt.xlabel('predictions', fontsize=12)\n",
        "plt.ylabel('Text - Number of words', fontsize=12)\n",
        "plt.show()"
      ],
      "execution_count": 277,
      "outputs": [
        {
          "output_type": "display_data",
          "data": {
            "image/png": "[encoded data removed]",
            "text/plain": [
              "<Figure size 864x576 with 1 Axes>"
            ]
          },
          "metadata": {
            "needs_background": "light"
          }
        }
      ]
    },
    {
      "cell_type": "code",
      "metadata": {
        "id": "mMhplkhR6n8A"
      },
      "source": [
        "True_liste = dd_analysis_test[dd_analysis_test['pred'] == True]\n",
        "False_liste = dd_analysis_test[dd_analysis_test['pred'] == False]"
      ],
      "execution_count": 281,
      "outputs": []
    },
    {
      "cell_type": "code",
      "metadata": {
        "colab": {
          "base_uri": "https://localhost:8080/"
        },
        "id": "Efq3VrMu54Cb",
        "outputId": "0c50b04c-683d-477c-e45f-896f87770b8d"
      },
      "source": [
        "from scipy import stats\n",
        "stats.ttest_ind(True_liste['Text_num_words'], False_liste['Text_num_words'])"
      ],
      "execution_count": 279,
      "outputs": [
        {
          "output_type": "execute_result",
          "data": {
            "text/plain": [
              "Ttest_indResult(statistic=2.39143597218221, pvalue=0.01700463585777568)"
            ]
          },
          "metadata": {},
          "execution_count": 279
        }
      ]
    },
    {
      "cell_type": "code",
      "metadata": {
        "id": "yl6iFxe1Fb0e"
      },
      "source": [
        "pp=[]\n",
        "text = ' '.join(True_liste['text'])\n",
        "counter_t = dict(Counter(text.split()).most_common(15))\n",
        "pp.append(counter_t)\n",
        "text = ' '.join(False_liste['text'])\n",
        "counter_f = dict(Counter(text.split()).most_common(15))\n",
        "pp.append(counter_f)"
      ],
      "execution_count": 282,
      "outputs": []
    },
    {
      "cell_type": "code",
      "metadata": {
        "colab": {
          "base_uri": "https://localhost:8080/"
        },
        "id": "EJS22TzZUwA6",
        "outputId": "46df0620-dec6-460e-eb04-0b567a86424e"
      },
      "source": [
        "f_counter = Counter(counter_f)\n",
        "\n",
        "t_counter = Counter(counter_t)\n",
        "\n",
        "tot_dic = f_counter + t_counter\n",
        "\n",
        "tot = dict(tot_dic)\n",
        "\n",
        "percent_pred = {k: v / total for k, v in a.iteritems()}"
      ],
      "execution_count": 287,
      "outputs": [
        {
          "output_type": "execute_result",
          "data": {
            "text/plain": [
              "{'activity': 3704,\n",
              " 'al': 23965,\n",
              " 'assay': 3752,\n",
              " 'brca': 3920,\n",
              " 'cancer': 28345,\n",
              " 'cell': 72541,\n",
              " 'domain': 20897,\n",
              " 'et': 23918,\n",
              " 'fig': 26147,\n",
              " 'figure': 25870,\n",
              " 'gene': 25162,\n",
              " 'mutant': 27731,\n",
              " 'mutation': 82897,\n",
              " 'p': 20054,\n",
              " 'patient': 23573,\n",
              " 'protein': 30820,\n",
              " 'tumor': 25828,\n",
              " 'variant': 25388}"
            ]
          },
          "metadata": {},
          "execution_count": 287
        }
      ]
    },
    {
      "cell_type": "code",
      "metadata": {
        "colab": {
          "base_uri": "https://localhost:8080/",
          "height": 444
        },
        "id": "vbqL091OHxs-",
        "outputId": "4c70339a-aead-41cb-8a95-4b2477a0d476"
      },
      "source": [
        "fig, axes = plt.subplots(nrows=1, ncols=2, sharey=True, figsize=(25,7))\n",
        "tf = ['True', 'False']\n",
        "summ = [len(True_liste['Text_num_words']), len(False_liste['Text_num_words'])]\n",
        "for idx in range(2):\n",
        "    labels = list(pp[idx].keys())\n",
        "    val  =  [x/summ[idx] for x in list(pp[idx].values())]\n",
        "    ax = axes.flat[idx]\n",
        "    ax.bar(labels, val,\n",
        "           tick_label=labels) \n",
        "    ax.set_title(\"Class {}\".format(tf[idx]),fontweight='bold')\n",
        "    \n",
        "# fig.text(0.5, 0.97, '(Top 5) Words Frequency per Class', ha='center', fontsize=14, fontweight='bold')\n",
        "# fig.text(0.5, 0, 'Word', ha='center', fontweight='bold')\n",
        "# fig.text(0, 0.5, 'Frequency', va='center', rotation='vertical', fontweight='bold')\n",
        "# fig.tight_layout(rect=[0.03, 0.03, 0.95, 0.95])"
      ],
      "execution_count": 290,
      "outputs": [
        {
          "output_type": "display_data",
          "data": {
            "image/png": "[encoded data removed]",
            "text/plain": [
              "<Figure size 1800x504 with 2 Axes>"
            ]
          },
          "metadata": {
            "needs_background": "light"
          }
        }
      ]
    },
    {
      "cell_type": "code",
      "metadata": {
        "colab": {
          "base_uri": "https://localhost:8080/",
          "height": 533
        },
        "id": "FaFH5Ul-PhZk",
        "outputId": "a4f6d8ac-1c1c-4f41-c743-211b8fa4ced8"
      },
      "source": [
        "fig, axes = plt.subplots(nrows=1, ncols=2, sharey=True, figsize=(25,7))\n",
        "\n",
        "# Normalize value counts for better comparison\n",
        "def normalize_group(x):\n",
        "    label, repetition = x.index, x\n",
        "    t = sum(repetition)\n",
        "    r = [n/t for n in repetition]\n",
        "    return label, r\n",
        "\n",
        "for idx, g in enumerate(dd_analysis_test.groupby('pred')):\n",
        "    label, val = normalize_group(g[1][\"gene\"].value_counts())\n",
        "    ax = axes.flat[idx]\n",
        "    ax.bar(np.arange(19), val[:19],\n",
        "           tick_label=label[:19]) \n",
        "    ax.set_title(\"Class {}\".format(g[0]))\n",
        "    \n",
        "fig.text(0.5, 0.97, '(Top 5) Gene Frequency per Class', ha='center', fontsize=14, fontweight='bold')\n",
        "fig.text(0.5, 0, 'Gene', ha='center', fontweight='bold')\n",
        "fig.text(0, 0.5, 'Frequency', va='center', rotation='vertical', fontweight='bold')\n",
        "fig.tight_layout(rect=[0.03, 0.03, 0.95, 0.95])"
      ],
      "execution_count": 305,
      "outputs": [
        {
          "output_type": "display_data",
          "data": {
            "image/png": "[encoded data removed]",
            "text/plain": [
              "<Figure size 1800x504 with 2 Axes>"
            ]
          },
          "metadata": {
            "needs_background": "light"
          }
        }
      ]
    },
    {
      "cell_type": "code",
      "metadata": {
        "id": "jbVyWZjtYHro"
      },
      "source": [
        "x =dd_analysis_test.groupby('pred')[\"gene\"].value_counts()\n",
        "f_gene_counter = dict(x[0])\n",
        "t_gene_counter = dict(x[1])\n",
        "len(f_gene_counter)\n",
        "tot_dic = {k: f_gene_counter.get(k, 0) + t_gene_counter.get(k, 0) for k in set(f_gene_counter) | set(t_gene_counter)}\n",
        "len(tot_dic)\n",
        "\n",
        "percent = {k: float(t_gene_counter[k])/tot_dic[k] for k in t_gene_counter}"
      ],
      "execution_count": 337,
      "outputs": []
    },
    {
      "cell_type": "code",
      "metadata": {
        "colab": {
          "base_uri": "https://localhost:8080/",
          "height": 444
        },
        "id": "lIkSK7rPZp7Z",
        "outputId": "e99b68bb-d512-402d-c49b-4e989ba6deea"
      },
      "source": [
        "fig, axes = plt.subplots(figsize=(10,7))\n",
        "sorted_x = sorted(percent.items(), key=lambda kv: kv[1])\n",
        "sorted_dict = dict(sorted_x[:7])\n",
        "sorted_dict\n",
        "\n",
        "labels = list(sorted_dict.keys())\n",
        "val  =   list(sorted_dict.values())\n",
        "ax = axes\n",
        "ax.bar(labels, val,\n",
        "        tick_label=labels) \n",
        "ax.set_title(\"percentage of prediction by gene\",fontweight='bold')\n",
        "plt.show()"
      ],
      "execution_count": 365,
      "outputs": [
        {
          "output_type": "display_data",
          "data": {
            "image/png": "[encoded data removed]",
            "text/plain": [
              "<Figure size 720x504 with 1 Axes>"
            ]
          },
          "metadata": {
            "needs_background": "light"
          }
        }
      ]
    },
    {
      "cell_type": "code",
      "metadata": {
        "id": "oIiZ0-v1j7xf"
      },
      "source": [
        "fig = plt.figure(figsize=(10,10))\n",
        "ax= fig.add_subplot(1,1,1)\n",
        "sns.heatmap(matrix, annot=True, cmap=\"Greens\",ax = ax,fmt='g'); #annot=True to annotate cells\n",
        "\n",
        "# labels, title and ticks\n",
        "ax.set_xlabel('Predicted labels');ax.set_ylabel('True labels'); \n",
        "ax.set_title('Confusion Matrix'); \n",
        "plt.setp(ax.get_yticklabels(), horizontalalignment='right')\n",
        "plt.setp(ax.get_xticklabels(), horizontalalignment='right')     \n",
        "plt.show()"
      ],
      "execution_count": null,
      "outputs": []
    },
    {
      "cell_type": "code",
      "metadata": {
        "id": "xCcZ1rxUsPuu"
      },
      "source": [
        "# from sklearn.metrics import confusion_matrix\n",
        "# matrix = confusion_matrix(y_true, y_pred)\n",
        "print(matrix.diagonal()/matrix.sum(axis=1))"
      ],
      "execution_count": null,
      "outputs": []
    },
    {
      "cell_type": "code",
      "metadata": {
        "id": "L__EV_x54Wzo"
      },
      "source": [
        "\n",
        "from sklearn.metrics import classification_report\n",
        "report = classification_report(y_test_cat, y_pred)\n",
        "print(report)"
      ],
      "execution_count": null,
      "outputs": []
    },
    {
      "cell_type": "code",
      "metadata": {
        "id": "XlYzIEwErZrr"
      },
      "source": [
        "accuracy_score(y_test_cat, y_pred)"
      ],
      "execution_count": null,
      "outputs": []
    },
    {
      "cell_type": "code",
      "metadata": {
        "id": "6OXDksW31GIq"
      },
      "source": [
        "score = model.evaluate(X_test, y_test_cat, verbose=0)\n",
        "print(f'Test loss: {score[0]} / Test accuracy: {score[1]}')"
      ],
      "execution_count": null,
      "outputs": []
    },
    {
      "cell_type": "code",
      "metadata": {
        "id": "khFbTHZp1RDa"
      },
      "source": [
        "predictions"
      ],
      "execution_count": null,
      "outputs": []
    },
    {
      "cell_type": "code",
      "metadata": {
        "id": "4sod8QoIGCav"
      },
      "source": [
        "input = Input(shape=(X_train.shape[1], 1)) \n",
        "tmp = input\n",
        "x = Conv1D(filters=16, kernel_size=1, activation='relu')(input)\n",
        "x = Conv1D(filters=1, kernel_size=1, activation='relu')(x)\n",
        "x = Flatten()(x)\n",
        "x = Add()([input, x])\n",
        "print(x)\n",
        "\n",
        "for i in range(15):\n",
        "  #x = SpatialDropout1D(0.1)(input)\n",
        "  x = Conv1D(filters=16, kernel_size=1, activation='relu')(x)\n",
        "  x = Conv1D(filters=1, kernel_size=1, activation='relu')(x)\n",
        "  x = Flatten()(x)\n",
        "  x = Add()([tmp, x])\n",
        "  tmp = x\n",
        "  print(x.shape)\n",
        "x = Flatten()(x)\n",
        "out = Dense(9, activation='softmax')(x)\n",
        "# input = Input(shape=(X_train.shape[1], 1)) \n",
        "print(out.shape)\n",
        "model = Model(input, out)\n",
        "model.compile(optimizer='adam',\n",
        "              loss='categorical_crossentropy',\n",
        "              metrics=['accuracy'])\n",
        "model.summary()"
      ],
      "execution_count": null,
      "outputs": []
    },
    {
      "cell_type": "code",
      "metadata": {
        "id": "DbIEqzmrNGSD"
      },
      "source": [
        "history = model.fit(X_train_res, y_train_res_cat, batch_size=180, epochs=40, verbose=1, validation_split = 0.1,  callbacks = EarlyStopping( monitor = \"val_loss\",patience=10))  # starts trainin"
      ],
      "execution_count": null,
      "outputs": []
    },
    {
      "cell_type": "code",
      "metadata": {
        "id": "xUH9ru17LOKf"
      },
      "source": [
        "model = KerasClassifier(build_fn=build_model_lr_dropout,\n",
        "                        epochs=20,\n",
        "                        validation_split = 0.2,\n",
        "                        verbose = 2)\n",
        "\n",
        "batch_size = list(range(100, 220, 40))\n",
        "dropout_rate = list(np.arange(0.0, 0.4, 0.1))\n",
        "\n",
        "param_grid = dict(batch_size=batch_size, dropout_rate=dropout_rate)\n",
        "print(param_grid)\n",
        "grid = GridSearchCV(estimator=model,\n",
        "                    param_grid=param_grid,\n",
        "                    n_jobs=2)\n",
        "X_train_res = X_train_res.reshape(6432, 598, 1)\n",
        "y_train_res_cat = y_train_res_cat.reshape(6432,  9)\n",
        "grid_lr_dropout_result = grid.fit(X_train_res, y_train_res_cat)"
      ],
      "execution_count": null,
      "outputs": []
    },
    {
      "cell_type": "code",
      "metadata": {
        "id": "mjpO3y6nLImO"
      },
      "source": [
        "model = KerasClassifier(build_fn=build_model_lr_dropout,\n",
        "                        epochs=20,\n",
        "                        validation_split = 0.2,\n",
        "                        verbose = 2)\n",
        "\n",
        "batch_size = list(range(100, 220, 40))\n",
        "dropout_rate = list(np.arange(0.0, 0.4, 0.1))\n",
        "\n",
        "param_grid = dict(batch_size=batch_size, dropout_rate=dropout_rate)\n",
        "print(param_grid)\n",
        "grid = GridSearchCV(estimator=model,\n",
        "                    param_grid=param_grid,\n",
        "                    n_jobs=2)\n",
        "X_train_res = X_train_res.reshape(6432, 598, 1)\n",
        "y_train_res_cat = y_train_res_cat.reshape(6432,  9)\n",
        "grid_lr_dropout_result = grid.fit(X_train_res, y_train_res_cat)"
      ],
      "execution_count": null,
      "outputs": []
    },
    {
      "cell_type": "code",
      "metadata": {
        "id": "U6pncriaLFkY"
      },
      "source": [
        "model = KerasClassifier(build_fn=build_model_lr_dropout,\n",
        "                        epochs=20,\n",
        "                        validation_split = 0.2,\n",
        "                        verbose = 2)\n",
        "\n",
        "batch_size = list(range(100, 220, 40))\n",
        "dropout_rate = list(np.arange(0.0, 0.4, 0.1))\n",
        "\n",
        "param_grid = dict(batch_size=batch_size, dropout_rate=dropout_rate)\n",
        "print(param_grid)\n",
        "grid = GridSearchCV(estimator=model,\n",
        "                    param_grid=param_grid,\n",
        "                    n_jobs=2)\n",
        "X_train_res = X_train_res.reshape(6432, 598, 1)\n",
        "y_train_res_cat = y_train_res_cat.reshape(6432,  9)\n",
        "grid_lr_dropout_result = grid.fit(X_train_res, y_train_res_cat)"
      ],
      "execution_count": null,
      "outputs": []
    },
    {
      "cell_type": "code",
      "metadata": {
        "id": "fb3aMIiiIT2N"
      },
      "source": [
        "history = model.fit(X_train_res, y_train_res_cat, batch_size=180, epochs=40, verbose=1, validation_split = 0.1,  callbacks = EarlyStopping( monitor = \"val_loss\",patience=10))  # starts trainin"
      ],
      "execution_count": null,
      "outputs": []
    },
    {
      "cell_type": "code",
      "metadata": {
        "id": "A4lCTbECSy3D"
      },
      "source": [
        "from sklearn.model_selection import GridSearchCV\n",
        "from tensorflow.keras.layers import SpatialDropout1D, Dropout, MaxPooling1D, Flatten, Input, Dense, Conv1D, BatchNormalization, Add\n",
        "from tensorflow.keras import layers, Sequential, Model\n",
        "from keras.callbacks import EarlyStopping\n",
        "from keras.wrappers.scikit_learn import KerasClassifier\n",
        "from tensorflow import keras\n",
        "\n",
        "\n",
        "def build_model_lr_dropout( dropout_rate=0.1):\n",
        "    model = Sequential()\n",
        "    model.add(Input(shape=(598, 1)))\n",
        "    model.add(SpatialDropout1D(dropout_rate))\n",
        "    model.add(Conv1D(filters=128, kernel_size=5, activation='relu'))\n",
        "    model.add(Conv1D(filters=128, kernel_size=5, activation='relu'))\n",
        "    model.add(Conv1D(filters=128, kernel_size=5, activation='relu'))\n",
        "    model.add(Conv1D(filters=128, kernel_size=5, activation='relu'))\n",
        "    model.add(Conv1D(filters=128, kernel_size=5, activation='relu'))\n",
        "    model.add(Flatten())\n",
        "    model.add(Dense(units=9, activation='softmax'))\n",
        "\n",
        "    model.compile(optimizer='adam',\n",
        "                  loss='binary_crossentropy',\n",
        "                  metrics=['accuracy'])\n",
        "\n",
        "    return model"
      ],
      "execution_count": null,
      "outputs": []
    },
    {
      "cell_type": "code",
      "metadata": {
        "id": "36vzCSwWeOJa"
      },
      "source": [
        "model = KerasClassifier(build_fn=build_model_lr_dropout,\n",
        "                        epochs=20,\n",
        "                        validation_split = 0.2,\n",
        "                        verbose = 2)\n",
        "\n",
        "batch_size = list(range(100, 220, 40))\n",
        "dropout_rate = list(np.arange(0.0, 0.4, 0.1))\n",
        "\n",
        "param_grid = dict(batch_size=batch_size, dropout_rate=dropout_rate)\n",
        "print(param_grid)\n",
        "grid = GridSearchCV(estimator=model,\n",
        "                    param_grid=param_grid,\n",
        "                    n_jobs=2)\n",
        "X_train_res = X_train_res.reshape(6432, 598, 1)\n",
        "y_train_res_cat = y_train_res_cat.reshape(6432,  9)\n",
        "grid_lr_dropout_result = grid.fit(X_train_res, y_train_res_cat)"
      ],
      "execution_count": null,
      "outputs": []
    },
    {
      "cell_type": "code",
      "metadata": {
        "id": "7trQqUmz6hDe"
      },
      "source": [
        "grid_lr_dropout_result.best_params_"
      ],
      "execution_count": null,
      "outputs": []
    },
    {
      "cell_type": "code",
      "metadata": {
        "id": "mkSrCKlLVSQq"
      },
      "source": [
        "! pip install bayesian-optimization"
      ],
      "execution_count": null,
      "outputs": []
    },
    {
      "cell_type": "code",
      "metadata": {
        "id": "Op1g0mSEfwlu"
      },
      "source": [
        "import os\n",
        "import numpy as np\n",
        "import pandas as pd\n",
        "from bayes_opt import BayesianOptimization\n",
        "from keras.layers import Dense, Conv2D, BatchNormalization\n",
        "from keras.layers import MaxPooling2D\n",
        "from keras.layers import Input, Flatten, Dropout\n",
        "from keras.layers import Activation\n",
        "from keras.callbacks import ReduceLROnPlateau, EarlyStopping, ModelCheckpoint\n",
        "from keras.models import Model, load_model\n",
        "from sklearn.model_selection import train_test_split\n",
        "from sklearn.metrics import balanced_accuracy_score, accuracy_score\n",
        "from sklearn.metrics import confusion_matrix, classification_report\n",
        "import sys\n",
        "\n",
        "\n",
        "model_name =str(np.random.uniform(0,1,))[2:9]\n",
        "early_stop_epochs = 10\n",
        "learning_rate_epochs = 5\n",
        "model = Model(input, out)\n",
        "list_early_stop_epochs = []\n",
        "list_validation_loss = []\n",
        "list_saved_model_name = []\n",
        "def cnn_function(num_cnn_blocks, num_filters, batch_size, kernel_size, drop_out, validation_split):\n",
        "# variable parameters\n",
        "  dict_params = {'num_cnn_blocks':int(num_cnn_blocks),\n",
        "          'num_filters':int(16*num_filters),\n",
        "          'kernel_size':int(kernel_size),\n",
        "          'batch_size':int(32*batch_size),\n",
        "          'drop_out':drop_out, \n",
        "          'validation_split':validation_split}\n",
        "\n",
        "  # start of cnn coding   \n",
        "  input = Input(shape=(X_train.shape[1], 1)) \n",
        "  x = SpatialDropout1D(0.1)(input)\n",
        "  x = Conv1D(filters=128, kernel_size=5, activation='relu')(x)\n",
        "\n",
        "  # additional cnn blocks\n",
        "  for iblock in range(dict_params['num_cnn_blocks'] - 1):\n",
        "    x = Conv1D(filters=128, kernel_size=5, activation='relu')(x) \n",
        "  x = Flatten()(x)\n",
        "  out = Dense(9, activation='softmax')(x)\n",
        "\n",
        "  # instantiate and compile model\n",
        "  cnn_model = Model(inputs=input, outputs=out)\n",
        "  cnn_model.compile(loss='categorical_crossentropy',\n",
        "            optimizer='adam', metrics=['accuracy'])\n",
        "    \n",
        "\n",
        "  # fit the model\n",
        "  h = cnn_model.fit(x=X_train_res, y=y_train_res_cat,\n",
        "            batch_size=dict_params['batch_size'],\n",
        "            epochs=40,\n",
        "            validation_split=dict_params['validation_split'],\n",
        "            callbacks= EarlyStopping( monitor = \"val_loss\" ,patience=10))\n",
        "    \n",
        "  # record actual best epochs and valid loss here, added to bayes opt parameter df below\n",
        "  list_early_stop_epochs.append(len(h.history['val_loss']) - early_stop_epochs)\n",
        "\n",
        "  validation_loss = np.min(h.history['val_loss'])\n",
        "  list_validation_loss.append(validation_loss)\n",
        "  list_saved_model_name.append(model_name)\n",
        "\n",
        "  # bayes opt is a maximization algorithm, to minimize validation_loss, return 1-this\n",
        "  bayes_opt_score = 1.0 - validation_loss\n",
        "\n",
        "  return bayes_opt_score    \n",
        "# end of cnn_function()\n",
        "\n",
        "optimizer = BayesianOptimization(f=cnn_function,\n",
        "                            pbounds={'num_cnn_blocks':(2, 4.001),\n",
        "                                      'num_filters':(1, 4.001),  # *16\n",
        "                                      'kernel_size':(2, 5.001),\n",
        "                                      'batch_size':(1, 5.001),  # *32\n",
        "                                      'drop_out': (0.05, 0.5),\n",
        "                                      'validation_split':(0.05, 0.5)},\n",
        "                                      verbose=2\n",
        "                                     )\n",
        "\n",
        "optimizer.maximize(init_points=4, n_iter=20)\n",
        "\n",
        "print('nbest result:', optimizer.max)"
      ],
      "execution_count": null,
      "outputs": []
    },
    {
      "cell_type": "code",
      "metadata": {
        "id": "t5DpzKrbTs3E"
      },
      "source": [
        "input = Input(shape=(X_train.shape[1], 1)) \n",
        "x = SpatialDropout1D(0.1)(input)\n",
        "x = Conv1D(filters=80, kernel_size=5, activation='relu')(x)\n",
        "x = Conv1D(filters=80, kernel_size=5, activation='relu')(x)\n",
        "x = Conv1D(filters=80, kernel_size=5, activation='relu')(x)\n",
        "x = Conv1D(filters=80, kernel_size=5, activation='relu')(x)\n",
        "\n",
        "x = Flatten()(x)\n",
        "out = Dense(9, activation='softmax')(x)\n",
        "model = Model(input, out)\n",
        "model.compile(optimizer='adam',\n",
        "              loss='categorical_crossentropy',\n",
        "              metrics=['accuracy'])\n",
        "model.summary()"
      ],
      "execution_count": null,
      "outputs": []
    },
    {
      "cell_type": "code",
      "metadata": {
        "id": "-LU3h0w_UesY"
      },
      "source": [
        "history = model.fit(X_train_res, y_train_res_cat, batch_size=19, epochs=40, verbose=1, \n",
        "                    validation_split = 0.05,  callbacks = EarlyStopping( monitor = y, patience=10))"
      ],
      "execution_count": null,
      "outputs": []
    },
    {
      "cell_type": "code",
      "metadata": {
        "id": "skE0pyEB1N5D"
      },
      "source": [
        "predictions = model.predict(X_test)\n",
        "y_pred = np.array([[False]*9]*len(predictions))\n",
        "for i, elem in enumerate(predictions.argmax(axis=1)):\n",
        "  y_pred[i][elem] = True\n",
        "matrix = np.around(confusion_matrix(y_test_cat.argmax(axis=1), y_pred.argmax(axis=1), normalize='true'),2)"
      ],
      "execution_count": null,
      "outputs": []
    },
    {
      "cell_type": "code",
      "metadata": {
        "id": "l_cXK_xh1YuM"
      },
      "source": [
        "fig = plt.figure(figsize=(10,10))\n",
        "ax= fig.add_subplot(1,1,1)\n",
        "sns.heatmap(matrix, annot=True, cmap=\"Greens\",ax = ax,fmt='g'); #annot=True to annotate cells\n",
        "\n",
        "# labels, title and ticks\n",
        "ax.set_xlabel('Predicted labels');ax.set_ylabel('True labels'); \n",
        "ax.set_title('Confusion Matrix'); \n",
        "plt.setp(ax.get_yticklabels(), horizontalalignment='right')\n",
        "plt.setp(ax.get_xticklabels(), horizontalalignment='right')     \n",
        "plt.show()"
      ],
      "execution_count": null,
      "outputs": []
    },
    {
      "cell_type": "code",
      "metadata": {
        "id": "ktvKhWGJ1ily"
      },
      "source": [
        "accuracy_score(y_test_cat, y_pred)"
      ],
      "execution_count": null,
      "outputs": []
    },
    {
      "cell_type": "markdown",
      "metadata": {
        "id": "jivojx3yvWUc"
      },
      "source": [
        "# Submit Kaglle :\n"
      ]
    },
    {
      "cell_type": "code",
      "metadata": {
        "id": "iKsYKVcgvVl5"
      },
      "source": [
        "from google.colab import drive\n",
        "import pandas as pd\n",
        "drive.mount('/content/drive')"
      ],
      "execution_count": null,
      "outputs": []
    },
    {
      "cell_type": "code",
      "metadata": {
        "id": "xz0P_X-S5iCx"
      },
      "source": [
        "df_test = pd.read_csv('test_variants.zip')"
      ],
      "execution_count": null,
      "outputs": []
    },
    {
      "cell_type": "code",
      "metadata": {
        "id": "ZN5balYfu637"
      },
      "source": [
        "DATA_PATH = \"/content/drive/MyDrive\"\n",
        "infile = open(DATA_PATH+\"/tfidf_test.csv\",'rb')\n",
        "tfidf_test = pd.read_csv(infile)"
      ],
      "execution_count": null,
      "outputs": []
    },
    {
      "cell_type": "code",
      "metadata": {
        "id": "1LXjlb-BvvpG"
      },
      "source": [
        "gc.collect()\n",
        "pca = PCA(n_components=598)\n",
        "tfIdfMat_test = pca.fit_transform(tfidf_test.set_index('variation').to_numpy())"
      ],
      "execution_count": null,
      "outputs": []
    },
    {
      "cell_type": "code",
      "metadata": {
        "id": "P1_zSmKOyQiH"
      },
      "source": [
        "tfIdfMat_test"
      ],
      "execution_count": null,
      "outputs": []
    },
    {
      "cell_type": "code",
      "metadata": {
        "id": "jlTxSojyv--l"
      },
      "source": [
        "probas = "
      ],
      "execution_count": null,
      "outputs": []
    },
    {
      "cell_type": "code",
      "metadata": {
        "id": "y60Wzk3w4yPJ"
      },
      "source": [
        "predictions = model.predict(tfIdfMat_test)\n",
        "y_pred = np.array([[0]*9]*len(predictions))\n",
        "for i, elem in enumerate(predictions.argmax(axis=1)):\n",
        "  y_pred[i][elem] = 1"
      ],
      "execution_count": null,
      "outputs": []
    },
    {
      "cell_type": "code",
      "metadata": {
        "id": "vbMM2Ndg42Kn"
      },
      "source": [
        "classes = ['class1', 'class2', 'class3', 'class4','class5', 'class6', 'class7', 'class8','class9']\n",
        "submit = pd.DataFrame(y_pred, columns=classes)\n",
        "submit['ID'] = df_test['ID'].values\n",
        "submit = submit[['ID', 'class1', 'class2', 'class3', 'class4','class5', 'class6', 'class7', 'class8','class9']]\n",
        "submit =  submit[1:]\n",
        "submit = submit.head(986)\n",
        "submit.to_csv('submission.csv', index=False)\n",
        "submit"
      ],
      "execution_count": null,
      "outputs": []
    },
    {
      "cell_type": "code",
      "metadata": {
        "id": "PYMsvRlTE8jt"
      },
      "source": [
        "y_kagelle= pd.read_csv('stage_2_private_solution.csv')\n",
        "del y_kagelle['ID']\n",
        "y_kag = y_kagelle.to_numpy()\n",
        "y_kag"
      ],
      "execution_count": null,
      "outputs": []
    },
    {
      "cell_type": "code",
      "metadata": {
        "id": "5MI6wW5hFlMv"
      },
      "source": [
        "submit = pd.DataFrame(y_pred, columns=classes)\n",
        "submit[11:]"
      ],
      "execution_count": null,
      "outputs": []
    },
    {
      "cell_type": "code",
      "metadata": {
        "id": "cupCvRboGWHs"
      },
      "source": [
        "sub = submit.iloc[y_kagelle['ID']]"
      ],
      "execution_count": null,
      "outputs": []
    },
    {
      "cell_type": "code",
      "metadata": {
        "id": "MLtLdxEpGqOM"
      },
      "source": [
        "sub = sub.to_numpy()"
      ],
      "execution_count": null,
      "outputs": []
    },
    {
      "cell_type": "code",
      "metadata": {
        "id": "ELidnBaRH_a7"
      },
      "source": [
        "accuracy_score(sub,y_kag)"
      ],
      "execution_count": null,
      "outputs": []
    },
    {
      "cell_type": "code",
      "metadata": {
        "id": "jwCIc_IsMajD"
      },
      "source": [
        "# input = Input(shape=( tf_len, 1))\n",
        "\n",
        "# x = SpatialDropout1D(0.3)(input)\n",
        "\n",
        "\n",
        "# x = Conv1D(filters=128, kernel_size=5, activation='relu')(x)\n",
        "\n",
        "# x = Dropout(0.5)(x)\n",
        "\n",
        "# x = Conv1D(filters=128, kernel_size=5, activation='relu')(x)\n",
        "\n",
        "# x = Dropout(0.5)(x)\n",
        "\n",
        "# #x = layers.MaxPooling1D(pool_size=2)(x)\n",
        "\n",
        "# x = Conv1D(filters=128, kernel_size=5, activation='relu')(x)\n",
        "\n",
        "# x = Dropout(0.5)(x)\n",
        "\n",
        "# x = layers.MaxPooling1D(pool_size=2)(x)\n",
        "\n",
        "# x = Flatten()(x)\n",
        "\n",
        "# out = Dense(9, activation='softmax')(x)"
      ],
      "execution_count": null,
      "outputs": []
    },
    {
      "cell_type": "code",
      "metadata": {
        "id": "owpwfn4mSvAF"
      },
      "source": [
        "# input = Input(shape=( tf_len, 1))\n",
        "\n",
        "# x = SpatialDropout1D(0.3)(input)\n",
        "\n",
        "\n",
        "# x = Conv1D(filters=128, kernel_size=5, activation='relu')(x)\n",
        "\n",
        "# x = BatchNormalization(momentum = 0.0)(x)\n",
        "\n",
        "# x = Conv1D(filters=64, kernel_size=5, activation='relu')(x)\n",
        "\n",
        "# x =  BatchNormalization(momentum = 0.0)(x)\n",
        "\n",
        "# #x = layers.MaxPooling1D(pool_size=2)(x)\n",
        "\n",
        "# x = Conv1D(filters=32, kernel_size=5, activation='relu')(x)\n",
        "\n",
        "# x =  BatchNormalization(momentum = 0.0)(x)\n",
        "\n",
        "# x = layers.MaxPooling1D(pool_size=2)(x)\n",
        "\n",
        "# x = Flatten()(x)\n",
        "\n",
        "# out = Dense(9, activation='softmax')(x)"
      ],
      "execution_count": null,
      "outputs": []
    }
  ]
}